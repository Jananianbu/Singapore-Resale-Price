{
 "cells": [
  {
   "cell_type": "code",
   "execution_count": 188,
   "id": "0b3b20da",
   "metadata": {},
   "outputs": [
    {
     "name": "stdout",
     "output_type": "stream",
     "text": [
      "Requirement already satisfied: pandas in e:\\old computer d\\singapore flat resale\\.venv\\lib\\site-packages (2.3.3)\n",
      "Requirement already satisfied: tzdata>=2022.7 in e:\\old computer d\\singapore flat resale\\.venv\\lib\\site-packages (from pandas) (2025.2)\n",
      "Requirement already satisfied: numpy>=1.22.4 in e:\\old computer d\\singapore flat resale\\.venv\\lib\\site-packages (from pandas) (2.2.6)\n",
      "Requirement already satisfied: pytz>=2020.1 in e:\\old computer d\\singapore flat resale\\.venv\\lib\\site-packages (from pandas) (2025.2)\n",
      "Requirement already satisfied: python-dateutil>=2.8.2 in e:\\old computer d\\singapore flat resale\\.venv\\lib\\site-packages (from pandas) (2.9.0.post0)\n",
      "Requirement already satisfied: six>=1.5 in e:\\old computer d\\singapore flat resale\\.venv\\lib\\site-packages (from python-dateutil>=2.8.2->pandas) (1.17.0)\n",
      "Note: you may need to restart the kernel to use updated packages.\n"
     ]
    },
    {
     "name": "stderr",
     "output_type": "stream",
     "text": [
      "\n",
      "[notice] A new release of pip is available: 23.0.1 -> 25.2\n",
      "[notice] To update, run: python.exe -m pip install --upgrade pip\n"
     ]
    }
   ],
   "source": [
    "pip install pandas\n"
   ]
  },
  {
   "cell_type": "code",
   "execution_count": 189,
   "id": "79611ed0",
   "metadata": {},
   "outputs": [],
   "source": [
    "import pandas as pd"
   ]
  },
  {
   "cell_type": "code",
   "execution_count": 190,
   "id": "94369a01",
   "metadata": {},
   "outputs": [],
   "source": [
    "df = pd.read_csv(\"C:/Users/anbarasi/OneDrive/Documents/Downloads/ResaleFlatPricesBasedonApprovalDate19901999.csv\")\n",
    "df1 = pd.read_csv(\"C:/Users/anbarasi/OneDrive/Documents/Downloads/ResaleFlatPricesBasedonApprovalDate2000Feb2012.csv\")\n",
    "df2 =pd.read_csv(\"C:/Users/anbarasi/OneDrive/Documents/Downloads/ResaleFlatPricesBasedonRegistrationDateFromJan2015toDec2016.csv\")\n",
    "df3 = pd.read_csv(\"C:/Users/anbarasi/OneDrive/Documents/Downloads/ResaleFlatPricesBasedonRegistrationDateFromMar2012toDec2014.csv\")"
   ]
  },
  {
   "cell_type": "code",
   "execution_count": 191,
   "id": "36ce9d4f",
   "metadata": {},
   "outputs": [
    {
     "data": {
      "text/plain": [
       "Index(['month', 'town', 'flat_type', 'block', 'street_name', 'storey_range',\n",
       "       'floor_area_sqm', 'flat_model', 'lease_commence_date', 'resale_price'],\n",
       "      dtype='object')"
      ]
     },
     "execution_count": 191,
     "metadata": {},
     "output_type": "execute_result"
    }
   ],
   "source": [
    "df.columns"
   ]
  },
  {
   "cell_type": "code",
   "execution_count": 192,
   "id": "6137cd03",
   "metadata": {},
   "outputs": [
    {
     "data": {
      "text/plain": [
       "Index(['month', 'town', 'flat_type', 'block', 'street_name', 'storey_range',\n",
       "       'floor_area_sqm', 'flat_model', 'lease_commence_date', 'resale_price'],\n",
       "      dtype='object')"
      ]
     },
     "execution_count": 192,
     "metadata": {},
     "output_type": "execute_result"
    }
   ],
   "source": [
    "df1.columns"
   ]
  },
  {
   "cell_type": "code",
   "execution_count": 193,
   "id": "d1767df3",
   "metadata": {},
   "outputs": [
    {
     "data": {
      "text/plain": [
       "Index(['month', 'town', 'flat_type', 'block', 'street_name', 'storey_range',\n",
       "       'floor_area_sqm', 'flat_model', 'lease_commence_date',\n",
       "       'remaining_lease', 'resale_price'],\n",
       "      dtype='object')"
      ]
     },
     "execution_count": 193,
     "metadata": {},
     "output_type": "execute_result"
    }
   ],
   "source": [
    "df2.columns"
   ]
  },
  {
   "cell_type": "code",
   "execution_count": 194,
   "id": "4f3ae495",
   "metadata": {},
   "outputs": [
    {
     "data": {
      "text/plain": [
       "Index(['month', 'town', 'flat_type', 'block', 'street_name', 'storey_range',\n",
       "       'floor_area_sqm', 'flat_model', 'lease_commence_date', 'resale_price'],\n",
       "      dtype='object')"
      ]
     },
     "execution_count": 194,
     "metadata": {},
     "output_type": "execute_result"
    }
   ],
   "source": [
    "df3.columns"
   ]
  },
  {
   "cell_type": "code",
   "execution_count": 195,
   "id": "5cd6292e",
   "metadata": {},
   "outputs": [],
   "source": [
    "\n",
    "# Merging DataFrames (assuming they share common columns)\n",
    "merge_df = pd.concat([df, df1, df2, df3], ignore_index=True)"
   ]
  },
  {
   "cell_type": "code",
   "execution_count": 196,
   "id": "155b9479",
   "metadata": {},
   "outputs": [],
   "source": [
    "# Reset the index\n",
    "merge_df.reset_index(drop=True, inplace=True)"
   ]
  },
  {
   "cell_type": "code",
   "execution_count": 197,
   "id": "6bd2c4a4",
   "metadata": {},
   "outputs": [
    {
     "data": {
      "text/plain": [
       "Index(['month', 'town', 'flat_type', 'block', 'street_name', 'storey_range',\n",
       "       'floor_area_sqm', 'flat_model', 'lease_commence_date', 'resale_price',\n",
       "       'remaining_lease'],\n",
       "      dtype='object')"
      ]
     },
     "execution_count": 197,
     "metadata": {},
     "output_type": "execute_result"
    }
   ],
   "source": [
    "merge_df.columns"
   ]
  },
  {
   "cell_type": "code",
   "execution_count": 198,
   "id": "a64c359f",
   "metadata": {},
   "outputs": [
    {
     "data": {
      "text/html": [
       "<div>\n",
       "<style scoped>\n",
       "    .dataframe tbody tr th:only-of-type {\n",
       "        vertical-align: middle;\n",
       "    }\n",
       "\n",
       "    .dataframe tbody tr th {\n",
       "        vertical-align: top;\n",
       "    }\n",
       "\n",
       "    .dataframe thead th {\n",
       "        text-align: right;\n",
       "    }\n",
       "</style>\n",
       "<table border=\"1\" class=\"dataframe\">\n",
       "  <thead>\n",
       "    <tr style=\"text-align: right;\">\n",
       "      <th></th>\n",
       "      <th>month</th>\n",
       "      <th>town</th>\n",
       "      <th>flat_type</th>\n",
       "      <th>block</th>\n",
       "      <th>street_name</th>\n",
       "      <th>storey_range</th>\n",
       "      <th>floor_area_sqm</th>\n",
       "      <th>flat_model</th>\n",
       "      <th>lease_commence_date</th>\n",
       "      <th>resale_price</th>\n",
       "      <th>remaining_lease</th>\n",
       "    </tr>\n",
       "  </thead>\n",
       "  <tbody>\n",
       "    <tr>\n",
       "      <th>0</th>\n",
       "      <td>1990-01</td>\n",
       "      <td>ANG MO KIO</td>\n",
       "      <td>1 ROOM</td>\n",
       "      <td>309</td>\n",
       "      <td>ANG MO KIO AVE 1</td>\n",
       "      <td>10 TO 12</td>\n",
       "      <td>31.0</td>\n",
       "      <td>IMPROVED</td>\n",
       "      <td>1977</td>\n",
       "      <td>9000.0</td>\n",
       "      <td>NaN</td>\n",
       "    </tr>\n",
       "    <tr>\n",
       "      <th>1</th>\n",
       "      <td>1990-01</td>\n",
       "      <td>ANG MO KIO</td>\n",
       "      <td>1 ROOM</td>\n",
       "      <td>309</td>\n",
       "      <td>ANG MO KIO AVE 1</td>\n",
       "      <td>04 TO 06</td>\n",
       "      <td>31.0</td>\n",
       "      <td>IMPROVED</td>\n",
       "      <td>1977</td>\n",
       "      <td>6000.0</td>\n",
       "      <td>NaN</td>\n",
       "    </tr>\n",
       "    <tr>\n",
       "      <th>2</th>\n",
       "      <td>1990-01</td>\n",
       "      <td>ANG MO KIO</td>\n",
       "      <td>1 ROOM</td>\n",
       "      <td>309</td>\n",
       "      <td>ANG MO KIO AVE 1</td>\n",
       "      <td>10 TO 12</td>\n",
       "      <td>31.0</td>\n",
       "      <td>IMPROVED</td>\n",
       "      <td>1977</td>\n",
       "      <td>8000.0</td>\n",
       "      <td>NaN</td>\n",
       "    </tr>\n",
       "    <tr>\n",
       "      <th>3</th>\n",
       "      <td>1990-01</td>\n",
       "      <td>ANG MO KIO</td>\n",
       "      <td>1 ROOM</td>\n",
       "      <td>309</td>\n",
       "      <td>ANG MO KIO AVE 1</td>\n",
       "      <td>07 TO 09</td>\n",
       "      <td>31.0</td>\n",
       "      <td>IMPROVED</td>\n",
       "      <td>1977</td>\n",
       "      <td>6000.0</td>\n",
       "      <td>NaN</td>\n",
       "    </tr>\n",
       "    <tr>\n",
       "      <th>4</th>\n",
       "      <td>1990-01</td>\n",
       "      <td>ANG MO KIO</td>\n",
       "      <td>3 ROOM</td>\n",
       "      <td>216</td>\n",
       "      <td>ANG MO KIO AVE 1</td>\n",
       "      <td>04 TO 06</td>\n",
       "      <td>73.0</td>\n",
       "      <td>NEW GENERATION</td>\n",
       "      <td>1976</td>\n",
       "      <td>47200.0</td>\n",
       "      <td>NaN</td>\n",
       "    </tr>\n",
       "  </tbody>\n",
       "</table>\n",
       "</div>"
      ],
      "text/plain": [
       "     month        town flat_type block       street_name storey_range  \\\n",
       "0  1990-01  ANG MO KIO    1 ROOM   309  ANG MO KIO AVE 1     10 TO 12   \n",
       "1  1990-01  ANG MO KIO    1 ROOM   309  ANG MO KIO AVE 1     04 TO 06   \n",
       "2  1990-01  ANG MO KIO    1 ROOM   309  ANG MO KIO AVE 1     10 TO 12   \n",
       "3  1990-01  ANG MO KIO    1 ROOM   309  ANG MO KIO AVE 1     07 TO 09   \n",
       "4  1990-01  ANG MO KIO    3 ROOM   216  ANG MO KIO AVE 1     04 TO 06   \n",
       "\n",
       "   floor_area_sqm      flat_model  lease_commence_date  resale_price  \\\n",
       "0            31.0        IMPROVED                 1977        9000.0   \n",
       "1            31.0        IMPROVED                 1977        6000.0   \n",
       "2            31.0        IMPROVED                 1977        8000.0   \n",
       "3            31.0        IMPROVED                 1977        6000.0   \n",
       "4            73.0  NEW GENERATION                 1976       47200.0   \n",
       "\n",
       "   remaining_lease  \n",
       "0              NaN  \n",
       "1              NaN  \n",
       "2              NaN  \n",
       "3              NaN  \n",
       "4              NaN  "
      ]
     },
     "execution_count": 198,
     "metadata": {},
     "output_type": "execute_result"
    }
   ],
   "source": [
    "merge_df.head()"
   ]
  },
  {
   "cell_type": "code",
   "execution_count": 199,
   "id": "f5411008",
   "metadata": {},
   "outputs": [
    {
     "data": {
      "text/plain": [
       "month                   object\n",
       "town                    object\n",
       "flat_type               object\n",
       "block                   object\n",
       "street_name             object\n",
       "storey_range            object\n",
       "floor_area_sqm         float64\n",
       "flat_model              object\n",
       "lease_commence_date      int64\n",
       "resale_price           float64\n",
       "remaining_lease        float64\n",
       "dtype: object"
      ]
     },
     "execution_count": 199,
     "metadata": {},
     "output_type": "execute_result"
    }
   ],
   "source": [
    "merge_df.dtypes"
   ]
  },
  {
   "cell_type": "code",
   "execution_count": 200,
   "id": "2d81da03",
   "metadata": {},
   "outputs": [
    {
     "data": {
      "text/plain": [
       "month                       0\n",
       "town                        0\n",
       "flat_type                   0\n",
       "block                       0\n",
       "street_name                 0\n",
       "storey_range                0\n",
       "floor_area_sqm              0\n",
       "flat_model                  0\n",
       "lease_commence_date         0\n",
       "resale_price                0\n",
       "remaining_lease        709050\n",
       "dtype: int64"
      ]
     },
     "execution_count": 200,
     "metadata": {},
     "output_type": "execute_result"
    }
   ],
   "source": [
    "merge_df.isnull().sum()"
   ]
  },
  {
   "cell_type": "code",
   "execution_count": 201,
   "id": "8cc3f488",
   "metadata": {},
   "outputs": [
    {
     "data": {
      "text/plain": [
       "month                  0\n",
       "town                   0\n",
       "flat_type              0\n",
       "block                  0\n",
       "street_name            0\n",
       "storey_range           0\n",
       "floor_area_sqm         0\n",
       "flat_model             0\n",
       "lease_commence_date    0\n",
       "resale_price           0\n",
       "remaining_lease        0\n",
       "dtype: int64"
      ]
     },
     "execution_count": 201,
     "metadata": {},
     "output_type": "execute_result"
    }
   ],
   "source": [
    "# droping remaining_lease missing values\n",
    "merge_df = merge_df.dropna()\n",
    "merge_df.isnull().sum()"
   ]
  },
  {
   "cell_type": "code",
   "execution_count": 202,
   "id": "dcd3d5f1",
   "metadata": {},
   "outputs": [
    {
     "data": {
      "text/plain": [
       "np.int64(24)"
      ]
     },
     "execution_count": 202,
     "metadata": {},
     "output_type": "execute_result"
    }
   ],
   "source": [
    "merge_df.duplicated().sum()\n"
   ]
  },
  {
   "cell_type": "code",
   "execution_count": 203,
   "id": "fdeffde5",
   "metadata": {},
   "outputs": [
    {
     "data": {
      "text/html": [
       "<div>\n",
       "<style scoped>\n",
       "    .dataframe tbody tr th:only-of-type {\n",
       "        vertical-align: middle;\n",
       "    }\n",
       "\n",
       "    .dataframe tbody tr th {\n",
       "        vertical-align: top;\n",
       "    }\n",
       "\n",
       "    .dataframe thead th {\n",
       "        text-align: right;\n",
       "    }\n",
       "</style>\n",
       "<table border=\"1\" class=\"dataframe\">\n",
       "  <thead>\n",
       "    <tr style=\"text-align: right;\">\n",
       "      <th></th>\n",
       "      <th>month</th>\n",
       "      <th>town</th>\n",
       "      <th>flat_type</th>\n",
       "      <th>block</th>\n",
       "      <th>street_name</th>\n",
       "      <th>storey_range</th>\n",
       "      <th>floor_area_sqm</th>\n",
       "      <th>flat_model</th>\n",
       "      <th>lease_commence_date</th>\n",
       "      <th>resale_price</th>\n",
       "      <th>remaining_lease</th>\n",
       "    </tr>\n",
       "  </thead>\n",
       "  <tbody>\n",
       "    <tr>\n",
       "      <th>657508</th>\n",
       "      <td>2015-01</td>\n",
       "      <td>KALLANG/WHAMPOA</td>\n",
       "      <td>3 ROOM</td>\n",
       "      <td>57</td>\n",
       "      <td>GEYLANG BAHRU</td>\n",
       "      <td>16 TO 18</td>\n",
       "      <td>65.0</td>\n",
       "      <td>Improved</td>\n",
       "      <td>1974</td>\n",
       "      <td>315000.0</td>\n",
       "      <td>58.0</td>\n",
       "    </tr>\n",
       "    <tr>\n",
       "      <th>659013</th>\n",
       "      <td>2015-02</td>\n",
       "      <td>TAMPINES</td>\n",
       "      <td>3 ROOM</td>\n",
       "      <td>403</td>\n",
       "      <td>TAMPINES ST 41</td>\n",
       "      <td>07 TO 09</td>\n",
       "      <td>69.0</td>\n",
       "      <td>Improved</td>\n",
       "      <td>1985</td>\n",
       "      <td>350000.0</td>\n",
       "      <td>69.0</td>\n",
       "    </tr>\n",
       "    <tr>\n",
       "      <th>660743</th>\n",
       "      <td>2015-04</td>\n",
       "      <td>BEDOK</td>\n",
       "      <td>4 ROOM</td>\n",
       "      <td>701</td>\n",
       "      <td>BEDOK RESERVOIR RD</td>\n",
       "      <td>10 TO 12</td>\n",
       "      <td>93.0</td>\n",
       "      <td>New Generation</td>\n",
       "      <td>1980</td>\n",
       "      <td>400000.0</td>\n",
       "      <td>64.0</td>\n",
       "    </tr>\n",
       "    <tr>\n",
       "      <th>661093</th>\n",
       "      <td>2015-04</td>\n",
       "      <td>CLEMENTI</td>\n",
       "      <td>3 ROOM</td>\n",
       "      <td>714</td>\n",
       "      <td>CLEMENTI WEST ST 2</td>\n",
       "      <td>10 TO 12</td>\n",
       "      <td>67.0</td>\n",
       "      <td>New Generation</td>\n",
       "      <td>1980</td>\n",
       "      <td>300000.0</td>\n",
       "      <td>64.0</td>\n",
       "    </tr>\n",
       "    <tr>\n",
       "      <th>662340</th>\n",
       "      <td>2015-05</td>\n",
       "      <td>BEDOK</td>\n",
       "      <td>3 ROOM</td>\n",
       "      <td>409</td>\n",
       "      <td>BEDOK NTH AVE 2</td>\n",
       "      <td>07 TO 09</td>\n",
       "      <td>68.0</td>\n",
       "      <td>New Generation</td>\n",
       "      <td>1980</td>\n",
       "      <td>340000.0</td>\n",
       "      <td>63.0</td>\n",
       "    </tr>\n",
       "    <tr>\n",
       "      <th>662923</th>\n",
       "      <td>2015-05</td>\n",
       "      <td>JURONG WEST</td>\n",
       "      <td>3 ROOM</td>\n",
       "      <td>501</td>\n",
       "      <td>JURONG WEST ST 51</td>\n",
       "      <td>01 TO 03</td>\n",
       "      <td>74.0</td>\n",
       "      <td>Model A</td>\n",
       "      <td>1986</td>\n",
       "      <td>304000.0</td>\n",
       "      <td>69.0</td>\n",
       "    </tr>\n",
       "    <tr>\n",
       "      <th>663938</th>\n",
       "      <td>2015-06</td>\n",
       "      <td>BEDOK</td>\n",
       "      <td>3 ROOM</td>\n",
       "      <td>410</td>\n",
       "      <td>BEDOK NTH AVE 2</td>\n",
       "      <td>04 TO 06</td>\n",
       "      <td>68.0</td>\n",
       "      <td>New Generation</td>\n",
       "      <td>1980</td>\n",
       "      <td>340000.0</td>\n",
       "      <td>63.0</td>\n",
       "    </tr>\n",
       "    <tr>\n",
       "      <th>664029</th>\n",
       "      <td>2015-06</td>\n",
       "      <td>BISHAN</td>\n",
       "      <td>4 ROOM</td>\n",
       "      <td>267</td>\n",
       "      <td>BISHAN ST 24</td>\n",
       "      <td>04 TO 06</td>\n",
       "      <td>104.0</td>\n",
       "      <td>Model A</td>\n",
       "      <td>1992</td>\n",
       "      <td>530000.0</td>\n",
       "      <td>76.0</td>\n",
       "    </tr>\n",
       "    <tr>\n",
       "      <th>665961</th>\n",
       "      <td>2015-07</td>\n",
       "      <td>CHOA CHU KANG</td>\n",
       "      <td>5 ROOM</td>\n",
       "      <td>690D</td>\n",
       "      <td>CHOA CHU KANG CRES</td>\n",
       "      <td>13 TO 15</td>\n",
       "      <td>110.0</td>\n",
       "      <td>Improved</td>\n",
       "      <td>2003</td>\n",
       "      <td>390000.0</td>\n",
       "      <td>87.0</td>\n",
       "    </tr>\n",
       "    <tr>\n",
       "      <th>667062</th>\n",
       "      <td>2015-08</td>\n",
       "      <td>ANG MO KIO</td>\n",
       "      <td>3 ROOM</td>\n",
       "      <td>473</td>\n",
       "      <td>ANG MO KIO AVE 10</td>\n",
       "      <td>07 TO 09</td>\n",
       "      <td>67.0</td>\n",
       "      <td>New Generation</td>\n",
       "      <td>1984</td>\n",
       "      <td>308000.0</td>\n",
       "      <td>67.0</td>\n",
       "    </tr>\n",
       "    <tr>\n",
       "      <th>668318</th>\n",
       "      <td>2015-08</td>\n",
       "      <td>WOODLANDS</td>\n",
       "      <td>4 ROOM</td>\n",
       "      <td>8</td>\n",
       "      <td>MARSILING DR</td>\n",
       "      <td>10 TO 12</td>\n",
       "      <td>88.0</td>\n",
       "      <td>Improved</td>\n",
       "      <td>1976</td>\n",
       "      <td>300000.0</td>\n",
       "      <td>59.0</td>\n",
       "    </tr>\n",
       "    <tr>\n",
       "      <th>672342</th>\n",
       "      <td>2015-11</td>\n",
       "      <td>JURONG EAST</td>\n",
       "      <td>3 ROOM</td>\n",
       "      <td>243</td>\n",
       "      <td>JURONG EAST ST 24</td>\n",
       "      <td>01 TO 03</td>\n",
       "      <td>67.0</td>\n",
       "      <td>New Generation</td>\n",
       "      <td>1983</td>\n",
       "      <td>260000.0</td>\n",
       "      <td>66.0</td>\n",
       "    </tr>\n",
       "    <tr>\n",
       "      <th>672944</th>\n",
       "      <td>2015-11</td>\n",
       "      <td>TAMPINES</td>\n",
       "      <td>4 ROOM</td>\n",
       "      <td>488B</td>\n",
       "      <td>TAMPINES ST 45</td>\n",
       "      <td>07 TO 09</td>\n",
       "      <td>105.0</td>\n",
       "      <td>Model A</td>\n",
       "      <td>1989</td>\n",
       "      <td>405000.0</td>\n",
       "      <td>72.0</td>\n",
       "    </tr>\n",
       "    <tr>\n",
       "      <th>673967</th>\n",
       "      <td>2015-12</td>\n",
       "      <td>KALLANG/WHAMPOA</td>\n",
       "      <td>5 ROOM</td>\n",
       "      <td>17</td>\n",
       "      <td>JLN TENTERAM</td>\n",
       "      <td>16 TO 18</td>\n",
       "      <td>105.0</td>\n",
       "      <td>Improved</td>\n",
       "      <td>2001</td>\n",
       "      <td>594000.0</td>\n",
       "      <td>84.0</td>\n",
       "    </tr>\n",
       "    <tr>\n",
       "      <th>675043</th>\n",
       "      <td>2016-01</td>\n",
       "      <td>CLEMENTI</td>\n",
       "      <td>3 ROOM</td>\n",
       "      <td>450</td>\n",
       "      <td>CLEMENTI AVE 3</td>\n",
       "      <td>04 TO 06</td>\n",
       "      <td>82.0</td>\n",
       "      <td>New Generation</td>\n",
       "      <td>1980</td>\n",
       "      <td>410000.0</td>\n",
       "      <td>63.0</td>\n",
       "    </tr>\n",
       "    <tr>\n",
       "      <th>675524</th>\n",
       "      <td>2016-01</td>\n",
       "      <td>SENGKANG</td>\n",
       "      <td>4 ROOM</td>\n",
       "      <td>436D</td>\n",
       "      <td>FERNVALE RD</td>\n",
       "      <td>13 TO 15</td>\n",
       "      <td>96.0</td>\n",
       "      <td>Model A</td>\n",
       "      <td>2010</td>\n",
       "      <td>455000.0</td>\n",
       "      <td>93.0</td>\n",
       "    </tr>\n",
       "    <tr>\n",
       "      <th>676668</th>\n",
       "      <td>2016-02</td>\n",
       "      <td>SEMBAWANG</td>\n",
       "      <td>4 ROOM</td>\n",
       "      <td>467</td>\n",
       "      <td>ADMIRALTY DR</td>\n",
       "      <td>07 TO 09</td>\n",
       "      <td>102.0</td>\n",
       "      <td>Premium Apartment</td>\n",
       "      <td>2001</td>\n",
       "      <td>365000.0</td>\n",
       "      <td>84.0</td>\n",
       "    </tr>\n",
       "    <tr>\n",
       "      <th>677144</th>\n",
       "      <td>2016-03</td>\n",
       "      <td>ANG MO KIO</td>\n",
       "      <td>3 ROOM</td>\n",
       "      <td>333</td>\n",
       "      <td>ANG MO KIO AVE 1</td>\n",
       "      <td>04 TO 06</td>\n",
       "      <td>68.0</td>\n",
       "      <td>New Generation</td>\n",
       "      <td>1981</td>\n",
       "      <td>340000.0</td>\n",
       "      <td>63.0</td>\n",
       "    </tr>\n",
       "    <tr>\n",
       "      <th>680156</th>\n",
       "      <td>2016-04</td>\n",
       "      <td>TAMPINES</td>\n",
       "      <td>3 ROOM</td>\n",
       "      <td>830</td>\n",
       "      <td>TAMPINES ST 82</td>\n",
       "      <td>01 TO 03</td>\n",
       "      <td>70.0</td>\n",
       "      <td>Simplified</td>\n",
       "      <td>1986</td>\n",
       "      <td>315000.0</td>\n",
       "      <td>68.0</td>\n",
       "    </tr>\n",
       "    <tr>\n",
       "      <th>686851</th>\n",
       "      <td>2016-08</td>\n",
       "      <td>KALLANG/WHAMPOA</td>\n",
       "      <td>5 ROOM</td>\n",
       "      <td>103</td>\n",
       "      <td>JLN RAJAH</td>\n",
       "      <td>07 TO 09</td>\n",
       "      <td>135.0</td>\n",
       "      <td>Model A</td>\n",
       "      <td>1984</td>\n",
       "      <td>700000.0</td>\n",
       "      <td>66.0</td>\n",
       "    </tr>\n",
       "    <tr>\n",
       "      <th>687398</th>\n",
       "      <td>2016-08</td>\n",
       "      <td>TAMPINES</td>\n",
       "      <td>4 ROOM</td>\n",
       "      <td>168B</td>\n",
       "      <td>SIMEI LANE</td>\n",
       "      <td>10 TO 12</td>\n",
       "      <td>94.0</td>\n",
       "      <td>DBSS</td>\n",
       "      <td>2011</td>\n",
       "      <td>618000.0</td>\n",
       "      <td>93.0</td>\n",
       "    </tr>\n",
       "    <tr>\n",
       "      <th>688890</th>\n",
       "      <td>2016-09</td>\n",
       "      <td>SENGKANG</td>\n",
       "      <td>4 ROOM</td>\n",
       "      <td>271A</td>\n",
       "      <td>SENGKANG CTRL</td>\n",
       "      <td>10 TO 12</td>\n",
       "      <td>93.0</td>\n",
       "      <td>Premium Apartment</td>\n",
       "      <td>2010</td>\n",
       "      <td>480000.0</td>\n",
       "      <td>92.0</td>\n",
       "    </tr>\n",
       "    <tr>\n",
       "      <th>692949</th>\n",
       "      <td>2016-12</td>\n",
       "      <td>BUKIT PANJANG</td>\n",
       "      <td>4 ROOM</td>\n",
       "      <td>447</td>\n",
       "      <td>BT PANJANG RING RD</td>\n",
       "      <td>07 TO 09</td>\n",
       "      <td>101.0</td>\n",
       "      <td>Model A</td>\n",
       "      <td>1997</td>\n",
       "      <td>330000.0</td>\n",
       "      <td>79.0</td>\n",
       "    </tr>\n",
       "    <tr>\n",
       "      <th>693738</th>\n",
       "      <td>2016-12</td>\n",
       "      <td>TAMPINES</td>\n",
       "      <td>4 ROOM</td>\n",
       "      <td>440</td>\n",
       "      <td>TAMPINES ST 43</td>\n",
       "      <td>10 TO 12</td>\n",
       "      <td>84.0</td>\n",
       "      <td>Simplified</td>\n",
       "      <td>1986</td>\n",
       "      <td>380000.0</td>\n",
       "      <td>68.0</td>\n",
       "    </tr>\n",
       "  </tbody>\n",
       "</table>\n",
       "</div>"
      ],
      "text/plain": [
       "          month             town flat_type block         street_name  \\\n",
       "657508  2015-01  KALLANG/WHAMPOA    3 ROOM    57       GEYLANG BAHRU   \n",
       "659013  2015-02         TAMPINES    3 ROOM   403      TAMPINES ST 41   \n",
       "660743  2015-04            BEDOK    4 ROOM   701  BEDOK RESERVOIR RD   \n",
       "661093  2015-04         CLEMENTI    3 ROOM   714  CLEMENTI WEST ST 2   \n",
       "662340  2015-05            BEDOK    3 ROOM   409     BEDOK NTH AVE 2   \n",
       "662923  2015-05      JURONG WEST    3 ROOM   501   JURONG WEST ST 51   \n",
       "663938  2015-06            BEDOK    3 ROOM   410     BEDOK NTH AVE 2   \n",
       "664029  2015-06           BISHAN    4 ROOM   267        BISHAN ST 24   \n",
       "665961  2015-07    CHOA CHU KANG    5 ROOM  690D  CHOA CHU KANG CRES   \n",
       "667062  2015-08       ANG MO KIO    3 ROOM   473   ANG MO KIO AVE 10   \n",
       "668318  2015-08        WOODLANDS    4 ROOM     8        MARSILING DR   \n",
       "672342  2015-11      JURONG EAST    3 ROOM   243   JURONG EAST ST 24   \n",
       "672944  2015-11         TAMPINES    4 ROOM  488B      TAMPINES ST 45   \n",
       "673967  2015-12  KALLANG/WHAMPOA    5 ROOM    17        JLN TENTERAM   \n",
       "675043  2016-01         CLEMENTI    3 ROOM   450      CLEMENTI AVE 3   \n",
       "675524  2016-01         SENGKANG    4 ROOM  436D         FERNVALE RD   \n",
       "676668  2016-02        SEMBAWANG    4 ROOM   467        ADMIRALTY DR   \n",
       "677144  2016-03       ANG MO KIO    3 ROOM   333    ANG MO KIO AVE 1   \n",
       "680156  2016-04         TAMPINES    3 ROOM   830      TAMPINES ST 82   \n",
       "686851  2016-08  KALLANG/WHAMPOA    5 ROOM   103           JLN RAJAH   \n",
       "687398  2016-08         TAMPINES    4 ROOM  168B          SIMEI LANE   \n",
       "688890  2016-09         SENGKANG    4 ROOM  271A       SENGKANG CTRL   \n",
       "692949  2016-12    BUKIT PANJANG    4 ROOM   447  BT PANJANG RING RD   \n",
       "693738  2016-12         TAMPINES    4 ROOM   440      TAMPINES ST 43   \n",
       "\n",
       "       storey_range  floor_area_sqm         flat_model  lease_commence_date  \\\n",
       "657508     16 TO 18            65.0           Improved                 1974   \n",
       "659013     07 TO 09            69.0           Improved                 1985   \n",
       "660743     10 TO 12            93.0     New Generation                 1980   \n",
       "661093     10 TO 12            67.0     New Generation                 1980   \n",
       "662340     07 TO 09            68.0     New Generation                 1980   \n",
       "662923     01 TO 03            74.0            Model A                 1986   \n",
       "663938     04 TO 06            68.0     New Generation                 1980   \n",
       "664029     04 TO 06           104.0            Model A                 1992   \n",
       "665961     13 TO 15           110.0           Improved                 2003   \n",
       "667062     07 TO 09            67.0     New Generation                 1984   \n",
       "668318     10 TO 12            88.0           Improved                 1976   \n",
       "672342     01 TO 03            67.0     New Generation                 1983   \n",
       "672944     07 TO 09           105.0            Model A                 1989   \n",
       "673967     16 TO 18           105.0           Improved                 2001   \n",
       "675043     04 TO 06            82.0     New Generation                 1980   \n",
       "675524     13 TO 15            96.0            Model A                 2010   \n",
       "676668     07 TO 09           102.0  Premium Apartment                 2001   \n",
       "677144     04 TO 06            68.0     New Generation                 1981   \n",
       "680156     01 TO 03            70.0         Simplified                 1986   \n",
       "686851     07 TO 09           135.0            Model A                 1984   \n",
       "687398     10 TO 12            94.0               DBSS                 2011   \n",
       "688890     10 TO 12            93.0  Premium Apartment                 2010   \n",
       "692949     07 TO 09           101.0            Model A                 1997   \n",
       "693738     10 TO 12            84.0         Simplified                 1986   \n",
       "\n",
       "        resale_price  remaining_lease  \n",
       "657508      315000.0             58.0  \n",
       "659013      350000.0             69.0  \n",
       "660743      400000.0             64.0  \n",
       "661093      300000.0             64.0  \n",
       "662340      340000.0             63.0  \n",
       "662923      304000.0             69.0  \n",
       "663938      340000.0             63.0  \n",
       "664029      530000.0             76.0  \n",
       "665961      390000.0             87.0  \n",
       "667062      308000.0             67.0  \n",
       "668318      300000.0             59.0  \n",
       "672342      260000.0             66.0  \n",
       "672944      405000.0             72.0  \n",
       "673967      594000.0             84.0  \n",
       "675043      410000.0             63.0  \n",
       "675524      455000.0             93.0  \n",
       "676668      365000.0             84.0  \n",
       "677144      340000.0             63.0  \n",
       "680156      315000.0             68.0  \n",
       "686851      700000.0             66.0  \n",
       "687398      618000.0             93.0  \n",
       "688890      480000.0             92.0  \n",
       "692949      330000.0             79.0  \n",
       "693738      380000.0             68.0  "
      ]
     },
     "execution_count": 203,
     "metadata": {},
     "output_type": "execute_result"
    }
   ],
   "source": [
    "merge_df[merge_df.duplicated()]\n"
   ]
  },
  {
   "cell_type": "code",
   "execution_count": 204,
   "id": "9c6ccfd2",
   "metadata": {},
   "outputs": [],
   "source": [
    "# remove duplicate\n",
    "merge_df = merge_df.drop_duplicates()\n"
   ]
  },
  {
   "cell_type": "code",
   "execution_count": 205,
   "id": "fd540cbe",
   "metadata": {},
   "outputs": [
    {
     "data": {
      "text/plain": [
       "np.int64(0)"
      ]
     },
     "execution_count": 205,
     "metadata": {},
     "output_type": "execute_result"
    }
   ],
   "source": [
    "merge_df.duplicated().sum() #after removing duplicate\n"
   ]
  },
  {
   "cell_type": "code",
   "execution_count": 206,
   "id": "f03d31e3",
   "metadata": {},
   "outputs": [
    {
     "data": {
      "text/html": [
       "<div>\n",
       "<style scoped>\n",
       "    .dataframe tbody tr th:only-of-type {\n",
       "        vertical-align: middle;\n",
       "    }\n",
       "\n",
       "    .dataframe tbody tr th {\n",
       "        vertical-align: top;\n",
       "    }\n",
       "\n",
       "    .dataframe thead th {\n",
       "        text-align: right;\n",
       "    }\n",
       "</style>\n",
       "<table border=\"1\" class=\"dataframe\">\n",
       "  <thead>\n",
       "    <tr style=\"text-align: right;\">\n",
       "      <th></th>\n",
       "      <th>month</th>\n",
       "      <th>town</th>\n",
       "      <th>flat_type</th>\n",
       "      <th>block</th>\n",
       "      <th>street_name</th>\n",
       "      <th>storey_range</th>\n",
       "      <th>floor_area_sqm</th>\n",
       "      <th>flat_model</th>\n",
       "      <th>lease_commence_date</th>\n",
       "      <th>resale_price</th>\n",
       "      <th>remaining_lease</th>\n",
       "    </tr>\n",
       "  </thead>\n",
       "  <tbody>\n",
       "    <tr>\n",
       "      <th>656847</th>\n",
       "      <td>2015-01</td>\n",
       "      <td>ANG MO KIO</td>\n",
       "      <td>3 ROOM</td>\n",
       "      <td>174</td>\n",
       "      <td>ANG MO KIO AVE 4</td>\n",
       "      <td>07 TO 09</td>\n",
       "      <td>60.0</td>\n",
       "      <td>Improved</td>\n",
       "      <td>1986</td>\n",
       "      <td>255000.0</td>\n",
       "      <td>70.0</td>\n",
       "    </tr>\n",
       "    <tr>\n",
       "      <th>656848</th>\n",
       "      <td>2015-01</td>\n",
       "      <td>ANG MO KIO</td>\n",
       "      <td>3 ROOM</td>\n",
       "      <td>541</td>\n",
       "      <td>ANG MO KIO AVE 10</td>\n",
       "      <td>01 TO 03</td>\n",
       "      <td>68.0</td>\n",
       "      <td>New Generation</td>\n",
       "      <td>1981</td>\n",
       "      <td>275000.0</td>\n",
       "      <td>65.0</td>\n",
       "    </tr>\n",
       "    <tr>\n",
       "      <th>656849</th>\n",
       "      <td>2015-01</td>\n",
       "      <td>ANG MO KIO</td>\n",
       "      <td>3 ROOM</td>\n",
       "      <td>163</td>\n",
       "      <td>ANG MO KIO AVE 4</td>\n",
       "      <td>01 TO 03</td>\n",
       "      <td>69.0</td>\n",
       "      <td>New Generation</td>\n",
       "      <td>1980</td>\n",
       "      <td>285000.0</td>\n",
       "      <td>64.0</td>\n",
       "    </tr>\n",
       "    <tr>\n",
       "      <th>656850</th>\n",
       "      <td>2015-01</td>\n",
       "      <td>ANG MO KIO</td>\n",
       "      <td>3 ROOM</td>\n",
       "      <td>446</td>\n",
       "      <td>ANG MO KIO AVE 10</td>\n",
       "      <td>01 TO 03</td>\n",
       "      <td>68.0</td>\n",
       "      <td>New Generation</td>\n",
       "      <td>1979</td>\n",
       "      <td>290000.0</td>\n",
       "      <td>63.0</td>\n",
       "    </tr>\n",
       "    <tr>\n",
       "      <th>656851</th>\n",
       "      <td>2015-01</td>\n",
       "      <td>ANG MO KIO</td>\n",
       "      <td>3 ROOM</td>\n",
       "      <td>557</td>\n",
       "      <td>ANG MO KIO AVE 10</td>\n",
       "      <td>07 TO 09</td>\n",
       "      <td>68.0</td>\n",
       "      <td>New Generation</td>\n",
       "      <td>1980</td>\n",
       "      <td>290000.0</td>\n",
       "      <td>64.0</td>\n",
       "    </tr>\n",
       "  </tbody>\n",
       "</table>\n",
       "</div>"
      ],
      "text/plain": [
       "          month        town flat_type block        street_name storey_range  \\\n",
       "656847  2015-01  ANG MO KIO    3 ROOM   174   ANG MO KIO AVE 4     07 TO 09   \n",
       "656848  2015-01  ANG MO KIO    3 ROOM   541  ANG MO KIO AVE 10     01 TO 03   \n",
       "656849  2015-01  ANG MO KIO    3 ROOM   163   ANG MO KIO AVE 4     01 TO 03   \n",
       "656850  2015-01  ANG MO KIO    3 ROOM   446  ANG MO KIO AVE 10     01 TO 03   \n",
       "656851  2015-01  ANG MO KIO    3 ROOM   557  ANG MO KIO AVE 10     07 TO 09   \n",
       "\n",
       "        floor_area_sqm      flat_model  lease_commence_date  resale_price  \\\n",
       "656847            60.0        Improved                 1986      255000.0   \n",
       "656848            68.0  New Generation                 1981      275000.0   \n",
       "656849            69.0  New Generation                 1980      285000.0   \n",
       "656850            68.0  New Generation                 1979      290000.0   \n",
       "656851            68.0  New Generation                 1980      290000.0   \n",
       "\n",
       "        remaining_lease  \n",
       "656847             70.0  \n",
       "656848             65.0  \n",
       "656849             64.0  \n",
       "656850             63.0  \n",
       "656851             64.0  "
      ]
     },
     "execution_count": 206,
     "metadata": {},
     "output_type": "execute_result"
    }
   ],
   "source": [
    "merge_df.head()"
   ]
  },
  {
   "cell_type": "code",
   "execution_count": 207,
   "id": "45692e14",
   "metadata": {},
   "outputs": [
    {
     "data": {
      "text/plain": [
       "Index(['month', 'town', 'flat_type', 'block', 'street_name', 'storey_range',\n",
       "       'floor_area_sqm', 'flat_model', 'lease_commence_date', 'resale_price',\n",
       "       'remaining_lease'],\n",
       "      dtype='object')"
      ]
     },
     "execution_count": 207,
     "metadata": {},
     "output_type": "execute_result"
    }
   ],
   "source": [
    "merge_df.columns"
   ]
  },
  {
   "cell_type": "code",
   "execution_count": 208,
   "id": "9fc95e43",
   "metadata": {},
   "outputs": [],
   "source": [
    "important_features = [\n",
    "    'floor_area_sqm',\n",
    "    'flat_type',\n",
    "    'storey_range',\n",
    "    'town',\n",
    "    'block',\n",
    "    'lease_commence_date',\n",
    "    'remaining_lease'\n",
    "]\n"
   ]
  },
  {
   "cell_type": "code",
   "execution_count": 209,
   "id": "78dff92f",
   "metadata": {},
   "outputs": [],
   "source": [
    "merge_df = merge_df.drop(['month', 'street_name', 'flat_model','block'], axis=1)\n"
   ]
  },
  {
   "cell_type": "code",
   "execution_count": 210,
   "id": "2e054be0",
   "metadata": {},
   "outputs": [
    {
     "name": "stdout",
     "output_type": "stream",
     "text": [
      "Requirement already satisfied: matplotlib in e:\\old computer d\\singapore flat resale\\.venv\\lib\\site-packages (3.10.7)\n",
      "Requirement already satisfied: kiwisolver>=1.3.1 in e:\\old computer d\\singapore flat resale\\.venv\\lib\\site-packages (from matplotlib) (1.4.9)\n",
      "Requirement already satisfied: pyparsing>=3 in e:\\old computer d\\singapore flat resale\\.venv\\lib\\site-packages (from matplotlib) (3.2.5)\n",
      "Requirement already satisfied: python-dateutil>=2.7 in e:\\old computer d\\singapore flat resale\\.venv\\lib\\site-packages (from matplotlib) (2.9.0.post0)\n",
      "Requirement already satisfied: contourpy>=1.0.1 in e:\\old computer d\\singapore flat resale\\.venv\\lib\\site-packages (from matplotlib) (1.3.2)\n",
      "Requirement already satisfied: fonttools>=4.22.0 in e:\\old computer d\\singapore flat resale\\.venv\\lib\\site-packages (from matplotlib) (4.60.1)\n",
      "Requirement already satisfied: numpy>=1.23 in e:\\old computer d\\singapore flat resale\\.venv\\lib\\site-packages (from matplotlib) (2.2.6)\n",
      "Requirement already satisfied: packaging>=20.0 in e:\\old computer d\\singapore flat resale\\.venv\\lib\\site-packages (from matplotlib) (25.0)\n",
      "Requirement already satisfied: pillow>=8 in e:\\old computer d\\singapore flat resale\\.venv\\lib\\site-packages (from matplotlib) (11.3.0)\n",
      "Requirement already satisfied: cycler>=0.10 in e:\\old computer d\\singapore flat resale\\.venv\\lib\\site-packages (from matplotlib) (0.12.1)\n",
      "Requirement already satisfied: six>=1.5 in e:\\old computer d\\singapore flat resale\\.venv\\lib\\site-packages (from python-dateutil>=2.7->matplotlib) (1.17.0)\n",
      "Note: you may need to restart the kernel to use updated packages.\n"
     ]
    },
    {
     "name": "stderr",
     "output_type": "stream",
     "text": [
      "\n",
      "[notice] A new release of pip is available: 23.0.1 -> 25.2\n",
      "[notice] To update, run: python.exe -m pip install --upgrade pip\n"
     ]
    }
   ],
   "source": [
    "pip install matplotlib"
   ]
  },
  {
   "cell_type": "code",
   "execution_count": 211,
   "id": "a5bb6ddd",
   "metadata": {},
   "outputs": [
    {
     "name": "stdout",
     "output_type": "stream",
     "text": [
      "Requirement already satisfied: seaborn in e:\\old computer d\\singapore flat resale\\.venv\\lib\\site-packages (0.13.2)\n",
      "Requirement already satisfied: pandas>=1.2 in e:\\old computer d\\singapore flat resale\\.venv\\lib\\site-packages (from seaborn) (2.3.3)\n",
      "Requirement already satisfied: numpy!=1.24.0,>=1.20 in e:\\old computer d\\singapore flat resale\\.venv\\lib\\site-packages (from seaborn) (2.2.6)\n",
      "Requirement already satisfied: matplotlib!=3.6.1,>=3.4 in e:\\old computer d\\singapore flat resale\\.venv\\lib\\site-packages (from seaborn) (3.10.7)\n",
      "Requirement already satisfied: pyparsing>=3 in e:\\old computer d\\singapore flat resale\\.venv\\lib\\site-packages (from matplotlib!=3.6.1,>=3.4->seaborn) (3.2.5)\n",
      "Requirement already satisfied: python-dateutil>=2.7 in e:\\old computer d\\singapore flat resale\\.venv\\lib\\site-packages (from matplotlib!=3.6.1,>=3.4->seaborn) (2.9.0.post0)\n",
      "Requirement already satisfied: pillow>=8 in e:\\old computer d\\singapore flat resale\\.venv\\lib\\site-packages (from matplotlib!=3.6.1,>=3.4->seaborn) (11.3.0)\n",
      "Requirement already satisfied: cycler>=0.10 in e:\\old computer d\\singapore flat resale\\.venv\\lib\\site-packages (from matplotlib!=3.6.1,>=3.4->seaborn) (0.12.1)\n",
      "Requirement already satisfied: contourpy>=1.0.1 in e:\\old computer d\\singapore flat resale\\.venv\\lib\\site-packages (from matplotlib!=3.6.1,>=3.4->seaborn) (1.3.2)\n",
      "Requirement already satisfied: packaging>=20.0 in e:\\old computer d\\singapore flat resale\\.venv\\lib\\site-packages (from matplotlib!=3.6.1,>=3.4->seaborn) (25.0)\n",
      "Requirement already satisfied: fonttools>=4.22.0 in e:\\old computer d\\singapore flat resale\\.venv\\lib\\site-packages (from matplotlib!=3.6.1,>=3.4->seaborn) (4.60.1)\n",
      "Requirement already satisfied: kiwisolver>=1.3.1 in e:\\old computer d\\singapore flat resale\\.venv\\lib\\site-packages (from matplotlib!=3.6.1,>=3.4->seaborn) (1.4.9)\n",
      "Requirement already satisfied: pytz>=2020.1 in e:\\old computer d\\singapore flat resale\\.venv\\lib\\site-packages (from pandas>=1.2->seaborn) (2025.2)\n",
      "Requirement already satisfied: tzdata>=2022.7 in e:\\old computer d\\singapore flat resale\\.venv\\lib\\site-packages (from pandas>=1.2->seaborn) (2025.2)\n",
      "Requirement already satisfied: six>=1.5 in e:\\old computer d\\singapore flat resale\\.venv\\lib\\site-packages (from python-dateutil>=2.7->matplotlib!=3.6.1,>=3.4->seaborn) (1.17.0)\n",
      "Note: you may need to restart the kernel to use updated packages.\n"
     ]
    },
    {
     "name": "stderr",
     "output_type": "stream",
     "text": [
      "\n",
      "[notice] A new release of pip is available: 23.0.1 -> 25.2\n",
      "[notice] To update, run: python.exe -m pip install --upgrade pip\n"
     ]
    }
   ],
   "source": [
    "pip install seaborn"
   ]
  },
  {
   "cell_type": "code",
   "execution_count": 212,
   "id": "4c1a348b",
   "metadata": {},
   "outputs": [],
   "source": [
    "import pandas as pd\n",
    "import matplotlib.pyplot as plt\n",
    "import seaborn as sns\n"
   ]
  },
  {
   "cell_type": "code",
   "execution_count": 213,
   "id": "9be7714b",
   "metadata": {},
   "outputs": [
    {
     "name": "stdout",
     "output_type": "stream",
     "text": [
      "Collecting sklearn\n",
      "  Using cached sklearn-0.0.post12.tar.gz (2.6 kB)\n",
      "  Preparing metadata (setup.py): started\n",
      "  Preparing metadata (setup.py): finished with status 'error'\n",
      "Note: you may need to restart the kernel to use updated packages.\n"
     ]
    },
    {
     "name": "stderr",
     "output_type": "stream",
     "text": [
      "  error: subprocess-exited-with-error\n",
      "  \n",
      "  × python setup.py egg_info did not run successfully.\n",
      "  │ exit code: 1\n",
      "  ╰─> [15 lines of output]\n",
      "      The 'sklearn' PyPI package is deprecated, use 'scikit-learn'\n",
      "      rather than 'sklearn' for pip commands.\n",
      "      \n",
      "      Here is how to fix this error in the main use cases:\n",
      "      - use 'pip install scikit-learn' rather than 'pip install sklearn'\n",
      "      - replace 'sklearn' by 'scikit-learn' in your pip requirements files\n",
      "        (requirements.txt, setup.py, setup.cfg, Pipfile, etc ...)\n",
      "      - if the 'sklearn' package is used by one of your dependencies,\n",
      "        it would be great if you take some time to track which package uses\n",
      "        'sklearn' instead of 'scikit-learn' and report it to their issue tracker\n",
      "      - as a last resort, set the environment variable\n",
      "        SKLEARN_ALLOW_DEPRECATED_SKLEARN_PACKAGE_INSTALL=True to avoid this error\n",
      "      \n",
      "      More information is available at\n",
      "      https://github.com/scikit-learn/sklearn-pypi-package\n",
      "      [end of output]\n",
      "  \n",
      "  note: This error originates from a subprocess, and is likely not a problem with pip.\n",
      "error: metadata-generation-failed\n",
      "\n",
      "× Encountered error while generating package metadata.\n",
      "╰─> See above for output.\n",
      "\n",
      "note: This is an issue with the package mentioned above, not pip.\n",
      "hint: See above for details.\n",
      "\n",
      "[notice] A new release of pip is available: 23.0.1 -> 25.2\n",
      "[notice] To update, run: python.exe -m pip install --upgrade pip\n"
     ]
    }
   ],
   "source": [
    "pip install sklearn"
   ]
  },
  {
   "cell_type": "code",
   "execution_count": 214,
   "id": "f320fb9a",
   "metadata": {},
   "outputs": [
    {
     "data": {
      "text/plain": [
       "array(['3 ROOM', '4 ROOM', '5 ROOM', '2 ROOM', 'EXECUTIVE', '1 ROOM',\n",
       "       'MULTI-GENERATION'], dtype=object)"
      ]
     },
     "execution_count": 214,
     "metadata": {},
     "output_type": "execute_result"
    }
   ],
   "source": [
    "merge_df['flat_type'].unique()"
   ]
  },
  {
   "cell_type": "code",
   "execution_count": 215,
   "id": "b12ce5c3",
   "metadata": {},
   "outputs": [
    {
     "name": "stdout",
     "output_type": "stream",
     "text": [
      "Requirement already satisfied: scikit-learn in e:\\old computer d\\singapore flat resale\\.venv\\lib\\site-packages (1.7.2)\n",
      "Requirement already satisfied: joblib>=1.2.0 in e:\\old computer d\\singapore flat resale\\.venv\\lib\\site-packages (from scikit-learn) (1.5.2)\n",
      "Requirement already satisfied: scipy>=1.8.0 in e:\\old computer d\\singapore flat resale\\.venv\\lib\\site-packages (from scikit-learn) (1.15.3)\n",
      "Requirement already satisfied: numpy>=1.22.0 in e:\\old computer d\\singapore flat resale\\.venv\\lib\\site-packages (from scikit-learn) (2.2.6)\n",
      "Requirement already satisfied: threadpoolctl>=3.1.0 in e:\\old computer d\\singapore flat resale\\.venv\\lib\\site-packages (from scikit-learn) (3.6.0)\n",
      "Note: you may need to restart the kernel to use updated packages.\n"
     ]
    },
    {
     "name": "stderr",
     "output_type": "stream",
     "text": [
      "\n",
      "[notice] A new release of pip is available: 23.0.1 -> 25.2\n",
      "[notice] To update, run: python.exe -m pip install --upgrade pip\n"
     ]
    }
   ],
   "source": [
    "pip install scikit-learn\n"
   ]
  },
  {
   "cell_type": "code",
   "execution_count": 216,
   "id": "0f790917",
   "metadata": {},
   "outputs": [
    {
     "name": "stdout",
     "output_type": "stream",
     "text": [
      "{'1 ROOM': np.int64(0), '2 ROOM': np.int64(1), '3 ROOM': np.int64(2), '4 ROOM': np.int64(3), '5 ROOM': np.int64(4), 'EXECUTIVE': np.int64(5), 'MULTI-GENERATION': np.int64(6)}\n"
     ]
    }
   ],
   "source": [
    "from sklearn.preprocessing import LabelEncoder\n",
    "\n",
    "le = LabelEncoder()\n",
    "merge_df['flat_type_encoded'] = le.fit_transform(merge_df['flat_type'])\n",
    "\n",
    "print(dict(zip(le.classes_, le.transform(le.classes_))))\n"
   ]
  },
  {
   "cell_type": "code",
   "execution_count": 217,
   "id": "a5e7896e",
   "metadata": {},
   "outputs": [],
   "source": [
    "merge_df.drop('flat_type', axis=1, inplace=True)"
   ]
  },
  {
   "cell_type": "code",
   "execution_count": 218,
   "id": "e271a4b8",
   "metadata": {},
   "outputs": [
    {
     "data": {
      "text/plain": [
       "array(['ANG MO KIO', 'BEDOK', 'BISHAN', 'BUKIT BATOK', 'BUKIT MERAH',\n",
       "       'BUKIT PANJANG', 'BUKIT TIMAH', 'CENTRAL AREA', 'CHOA CHU KANG',\n",
       "       'CLEMENTI', 'GEYLANG', 'HOUGANG', 'JURONG EAST', 'JURONG WEST',\n",
       "       'KALLANG/WHAMPOA', 'MARINE PARADE', 'PASIR RIS', 'PUNGGOL',\n",
       "       'QUEENSTOWN', 'SEMBAWANG', 'SENGKANG', 'SERANGOON', 'TAMPINES',\n",
       "       'TOA PAYOH', 'WOODLANDS', 'YISHUN'], dtype=object)"
      ]
     },
     "execution_count": 218,
     "metadata": {},
     "output_type": "execute_result"
    }
   ],
   "source": [
    "merge_df['town'].unique()"
   ]
  },
  {
   "cell_type": "code",
   "execution_count": 219,
   "id": "88371195",
   "metadata": {},
   "outputs": [
    {
     "name": "stdout",
     "output_type": "stream",
     "text": [
      "✅ One-Hot Encoding applied for 'town' column.\n"
     ]
    }
   ],
   "source": [
    "town_encoded = pd.get_dummies(merge_df['town'], prefix='town')\n",
    "merge_df = pd.concat([merge_df, town_encoded], axis=1)\n",
    "merge_df.drop('town', axis=1, inplace=True)\n",
    "\n",
    "print(\"✅ One-Hot Encoding applied for 'town' column.\")\n"
   ]
  },
  {
   "cell_type": "code",
   "execution_count": 220,
   "id": "2a86e8a7",
   "metadata": {},
   "outputs": [
    {
     "data": {
      "text/plain": [
       "array(['07 TO 09', '01 TO 03', '13 TO 15', '10 TO 12', '04 TO 06',\n",
       "       '19 TO 21', '16 TO 18', '22 TO 24', '25 TO 27', '28 TO 30',\n",
       "       '34 TO 36', '46 TO 48', '31 TO 33', '37 TO 39', '43 TO 45',\n",
       "       '40 TO 42', '49 TO 51'], dtype=object)"
      ]
     },
     "execution_count": 220,
     "metadata": {},
     "output_type": "execute_result"
    }
   ],
   "source": [
    "merge_df['storey_range'].unique()\n"
   ]
  },
  {
   "cell_type": "code",
   "execution_count": 222,
   "id": "0bb4238b",
   "metadata": {},
   "outputs": [
    {
     "data": {
      "text/plain": [
       "array(['07 TO 09', '01 TO 03', '13 TO 15', '10 TO 12', '04 TO 06',\n",
       "       '19 TO 21', '16 TO 18', '22 TO 24', '25 TO 27', '28 TO 30',\n",
       "       '34 TO 36', '46 TO 48', '31 TO 33', '37 TO 39', '43 TO 45',\n",
       "       '40 TO 42', '49 TO 51'], dtype=object)"
      ]
     },
     "execution_count": 222,
     "metadata": {},
     "output_type": "execute_result"
    }
   ],
   "source": [
    "merge_df['storey_range']. unique()"
   ]
  },
  {
   "cell_type": "code",
   "execution_count": 223,
   "id": "0a067ee1",
   "metadata": {},
   "outputs": [
    {
     "name": "stdout",
     "output_type": "stream",
     "text": [
      "       storey_range  storey_range_encoded\n",
      "656847     07 TO 09                     2\n",
      "656848     01 TO 03                     0\n",
      "656849     01 TO 03                     0\n",
      "656850     01 TO 03                     0\n",
      "656851     07 TO 09                     2\n"
     ]
    }
   ],
   "source": [
    "storey_order = [\n",
    "    '01 TO 03', '04 TO 06', '07 TO 09', '10 TO 12', '13 TO 15',\n",
    "    '16 TO 18', '19 TO 21', '22 TO 24', '25 TO 27', '28 TO 30',\n",
    "    '31 TO 33', '34 TO 36', '37 TO 39', '40 TO 42', '43 TO 45',\n",
    "    '46 TO 48', '49 TO 51'\n",
    "]\n",
    "\n",
    "merge_df['storey_range_encoded'] = merge_df['storey_range'].map({v: i for i, v in enumerate(storey_order)})\n",
    "\n",
    "print(merge_df[['storey_range', 'storey_range_encoded']].head())\n"
   ]
  },
  {
   "cell_type": "code",
   "execution_count": 224,
   "id": "cd868f29",
   "metadata": {},
   "outputs": [],
   "source": [
    "merge_df.drop('storey_range', axis=1, inplace=True)\n"
   ]
  },
  {
   "cell_type": "code",
   "execution_count": 225,
   "id": "70085c5e",
   "metadata": {},
   "outputs": [],
   "source": [
    "# Select only numerical columns\n",
    "num_cols = merge_df.select_dtypes(include=['int64', 'float64']).columns.tolist()"
   ]
  },
  {
   "cell_type": "code",
   "execution_count": 226,
   "id": "c47c4284",
   "metadata": {},
   "outputs": [
    {
     "name": "stdout",
     "output_type": "stream",
     "text": [
      "Columns that contain outliers: ['floor_area_sqm', 'resale_price', 'storey_range_encoded']\n"
     ]
    }
   ],
   "source": [
    "# Detect outliers using IQR method\n",
    "outlier_cols = []\n",
    "\n",
    "for col in num_cols:\n",
    "    Q1 = merge_df[col].quantile(0.25)\n",
    "    Q3 = merge_df[col].quantile(0.75)\n",
    "    IQR = Q3 - Q1\n",
    "    lower_limit = Q1 - 1.5 * IQR\n",
    "    upper_limit = Q3 + 1.5 * IQR\n",
    "    \n",
    "    # Count outliers\n",
    "    outliers = merge_df[(merge_df[col] < lower_limit) | (merge_df[col] > upper_limit)]\n",
    "    if not outliers.empty:\n",
    "        outlier_cols.append(col)\n",
    "\n",
    "# Print result\n",
    "if outlier_cols:\n",
    "    print(\"Columns that contain outliers:\", outlier_cols)\n",
    "else:\n",
    "    print(\"✅ No outliers detected in numeric columns.\")\n"
   ]
  },
  {
   "cell_type": "code",
   "execution_count": 227,
   "id": "7f9da0f6",
   "metadata": {},
   "outputs": [
    {
     "name": "stdout",
     "output_type": "stream",
     "text": [
      "Skewness values:\n",
      "floor_area_sqm          0.297575\n",
      "resale_price            1.270726\n",
      "storey_range_encoded    1.603200\n",
      "dtype: float64\n"
     ]
    }
   ],
   "source": [
    "# Check skewness for numeric columns\n",
    "skew_values = merge_df[['floor_area_sqm', 'resale_price','storey_range_encoded']].skew()\n",
    "\n",
    "print(\"Skewness values:\")\n",
    "print(skew_values)\n"
   ]
  },
  {
   "cell_type": "code",
   "execution_count": 228,
   "id": "dd0d07c2",
   "metadata": {},
   "outputs": [
    {
     "data": {
      "text/plain": [
       "656847    255000.0\n",
       "656848    275000.0\n",
       "656849    285000.0\n",
       "656850    290000.0\n",
       "656851    290000.0\n",
       "Name: resale_price, dtype: float64"
      ]
     },
     "execution_count": 228,
     "metadata": {},
     "output_type": "execute_result"
    }
   ],
   "source": [
    "merge_df['resale_price'].head()"
   ]
  },
  {
   "cell_type": "code",
   "execution_count": 229,
   "id": "6fce5557",
   "metadata": {},
   "outputs": [],
   "source": [
    "import numpy as np\n",
    "merge_df['floor_area_sqm'] = np.power(merge_df['floor_area_sqm'], 2)\n"
   ]
  },
  {
   "cell_type": "code",
   "execution_count": 230,
   "id": "e099cbb3",
   "metadata": {},
   "outputs": [
    {
     "name": "stdout",
     "output_type": "stream",
     "text": [
      "✅ Log transformation applied to right-skewed columns.\n"
     ]
    }
   ],
   "source": [
    "# for right skew\n",
    "import numpy as np\n",
    "\n",
    "merge_df['floor_area_sqm'] = np.log1p(merge_df['floor_area_sqm'])\n",
    "merge_df['resale_price'] = np.log1p(merge_df['resale_price'])\n",
    "\n",
    "print(\"✅ Log transformation applied to right-skewed columns.\")\n"
   ]
  },
  {
   "cell_type": "code",
   "execution_count": 231,
   "id": "1ba6d240",
   "metadata": {},
   "outputs": [
    {
     "data": {
      "text/plain": [
       "656847    12.449023\n",
       "656848    12.524530\n",
       "656849    12.560248\n",
       "656850    12.577640\n",
       "656851    12.577640\n",
       "Name: resale_price, dtype: float64"
      ]
     },
     "execution_count": 231,
     "metadata": {},
     "output_type": "execute_result"
    }
   ],
   "source": [
    "merge_df['resale_price'].head()"
   ]
  },
  {
   "cell_type": "code",
   "execution_count": null,
   "id": "74d9f1d0",
   "metadata": {},
   "outputs": [],
   "source": []
  },
  {
   "cell_type": "code",
   "execution_count": 232,
   "id": "09d43f34",
   "metadata": {},
   "outputs": [
    {
     "data": {
      "text/plain": [
       "floor_area_sqm          float64\n",
       "lease_commence_date       int64\n",
       "resale_price            float64\n",
       "remaining_lease         float64\n",
       "flat_type_encoded         int64\n",
       "town_ANG MO KIO            bool\n",
       "town_BEDOK                 bool\n",
       "town_BISHAN                bool\n",
       "town_BUKIT BATOK           bool\n",
       "town_BUKIT MERAH           bool\n",
       "town_BUKIT PANJANG         bool\n",
       "town_BUKIT TIMAH           bool\n",
       "town_CENTRAL AREA          bool\n",
       "town_CHOA CHU KANG         bool\n",
       "town_CLEMENTI              bool\n",
       "town_GEYLANG               bool\n",
       "town_HOUGANG               bool\n",
       "town_JURONG EAST           bool\n",
       "town_JURONG WEST           bool\n",
       "town_KALLANG/WHAMPOA       bool\n",
       "town_MARINE PARADE         bool\n",
       "town_PASIR RIS             bool\n",
       "town_PUNGGOL               bool\n",
       "town_QUEENSTOWN            bool\n",
       "town_SEMBAWANG             bool\n",
       "town_SENGKANG              bool\n",
       "town_SERANGOON             bool\n",
       "town_TAMPINES              bool\n",
       "town_TOA PAYOH             bool\n",
       "town_WOODLANDS             bool\n",
       "town_YISHUN                bool\n",
       "storey_range_encoded      int64\n",
       "dtype: object"
      ]
     },
     "execution_count": 232,
     "metadata": {},
     "output_type": "execute_result"
    }
   ],
   "source": [
    "merge_df.dtypes"
   ]
  },
  {
   "cell_type": "code",
   "execution_count": 233,
   "id": "ba955647",
   "metadata": {},
   "outputs": [
    {
     "data": {
      "text/plain": [
       "array([ 2,  0,  4,  3,  1,  6,  5,  7,  8,  9, 11, 15, 10, 12, 14, 13, 16])"
      ]
     },
     "execution_count": 233,
     "metadata": {},
     "output_type": "execute_result"
    }
   ],
   "source": [
    "merge_df['storey_range_encoded'].unique()"
   ]
  },
  {
   "cell_type": "code",
   "execution_count": 234,
   "id": "fb9b304b",
   "metadata": {},
   "outputs": [
    {
     "data": {
      "text/plain": [
       "array([ 8.18896686,  8.43923165,  8.46842303,  8.40960798,  8.60831278,\n",
       "        8.8135872 ,  8.58110652,  8.63515399,  9.04369529,  9.02183976,\n",
       "        9.0653146 ,  9.14952823,  9.17003908,  9.19034173,  9.65669147,\n",
       "        9.59164939,  9.85455988,  9.5583176 ,  9.62443481,  9.40104337,\n",
       "        9.41914156,  7.61381868,  7.56889566,  8.15536212,  8.3490112 ,\n",
       "        8.49719454,  8.78905071,  8.83782636,  8.86177531,  8.97739898,\n",
       "        8.99974279,  9.26955223,  9.34574501,  9.3080114 ,  8.88544091,\n",
       "        9.70412156,  9.6726268 ,  9.54144106,  9.60810927,  9.9944702 ,\n",
       "        9.89757008, 10.3066166 ,  9.96726016,  9.28887425,  9.38277993,\n",
       "        9.36434818,  9.10786458,  9.21044037,  9.5072547 ,  9.57505293,\n",
       "        9.84001513, 10.00793765, 10.02131503, 10.31814363,  8.31801028,\n",
       "        8.76420951,  9.08670273,  9.79573529,  9.45485395,  7.784057  ,\n",
       "        7.47590597,  8.05102221,  8.28652137,  8.37953903,  8.95480275,\n",
       "        9.23033906,  9.48993987,  9.64062817,  9.32696718,  9.25004174,\n",
       "        9.76566124,  9.78075479,  9.93967482,  9.73512807,  9.91170371,\n",
       "        8.68777949,  9.12880488,  8.73905592,  9.75045292,  9.98091145,\n",
       "        9.88333586,  8.22201644,  8.19893919,  8.12118324,  8.6616398 ,\n",
       "        9.52442092,  9.86899962, 10.09975311,  8.93194835,  8.90882979,\n",
       "        9.82536384,  9.7196849 ,  9.43707746,  8.52555811,  9.81060443,\n",
       "       10.07394737,  9.68843617,  9.92573816,  9.95351505, 10.06091856,\n",
       "        9.47247384,  8.55352512,  7.2758646 ,  8.08641028, 10.18753804,\n",
       "       10.34100027, 10.35233138, 10.08689186,  6.86901445,  7.94093976,\n",
       "        7.65775527, 10.04780432, 10.16284731, 10.03460353,  7.82444593,\n",
       "       10.13784796,  7.37838371, 10.24796339, 10.48352202, 10.19977004,\n",
       "        7.70074779, 10.11253218, 10.15038669,  7.90285719,  8.25452888,\n",
       "       11.26959196,  8.71358201, 10.45152225, 10.25983244,  7.86403566,\n",
       "        8.8402342 ,  7.74283596, 10.27163148, 10.21192768,  7.97831097,\n",
       "        8.01499689,  7.11151212,  7.52294092, 10.96961108, 10.40804356,\n",
       "       10.37480282, 10.22401187, 10.39702459, 10.29502276,  8.28969266,\n",
       "        7.32778054, 10.12523012, 10.51501787,  7.05358573, 10.17523077,\n",
       "       10.5866349 , 10.3296046 , 10.46224583,  7.42773884, 10.49407584,\n",
       "       11.11367103])"
      ]
     },
     "execution_count": 234,
     "metadata": {},
     "output_type": "execute_result"
    }
   ],
   "source": [
    "merge_df['floor_area_sqm'].unique()"
   ]
  },
  {
   "cell_type": "code",
   "execution_count": 235,
   "id": "6e1b3aac",
   "metadata": {},
   "outputs": [
    {
     "data": {
      "text/plain": [
       "array([1986, 1981, 1980, 1979, 1978, 1985, 1976, 1977, 2002, 1993, 1996,\n",
       "       2006, 2003, 1982, 1974, 2010, 1987, 1984, 2000, 1989, 1995, 1992,\n",
       "       1988, 1998, 1990, 1983, 2004, 1997, 2005, 1969, 1970, 1971, 1973,\n",
       "       2009, 1999, 2001, 2008, 2007, 1975, 2011, 1968, 1967, 1972, 1991,\n",
       "       2012, 1994, 1966, 2013])"
      ]
     },
     "execution_count": 235,
     "metadata": {},
     "output_type": "execute_result"
    }
   ],
   "source": [
    "merge_df['lease_commence_date'].unique()"
   ]
  },
  {
   "cell_type": "markdown",
   "id": "f953ec9f",
   "metadata": {},
   "source": []
  },
  {
   "cell_type": "code",
   "execution_count": 236,
   "id": "855927ca",
   "metadata": {},
   "outputs": [
    {
     "data": {
      "text/plain": [
       "array([70., 65., 64., 63., 62., 69., 60., 61., 86., 77., 80., 90., 87.,\n",
       "       66., 58., 94., 71., 68., 84., 73., 79., 76., 72., 82., 74., 67.,\n",
       "       88., 81., 89., 53., 54., 55., 57., 93., 83., 85., 92., 91., 59.,\n",
       "       95., 52., 51., 56., 75., 96., 78., 50., 97., 49., 48.])"
      ]
     },
     "execution_count": 236,
     "metadata": {},
     "output_type": "execute_result"
    }
   ],
   "source": [
    "merge_df['remaining_lease'].unique()"
   ]
  },
  {
   "cell_type": "code",
   "execution_count": 237,
   "id": "42d3336b",
   "metadata": {},
   "outputs": [
    {
     "data": {
      "text/plain": [
       "array([ 2,  0,  4,  3,  1,  6,  5,  7,  8,  9, 11, 15, 10, 12, 14, 13, 16])"
      ]
     },
     "execution_count": 237,
     "metadata": {},
     "output_type": "execute_result"
    }
   ],
   "source": [
    "merge_df['storey_range_encoded'].unique()"
   ]
  },
  {
   "cell_type": "code",
   "execution_count": 238,
   "id": "70cbf2d2",
   "metadata": {},
   "outputs": [],
   "source": [
    "X = merge_df.drop('resale_price', axis=1)  # all columns except resale_price\n",
    "y = merge_df['resale_price']               # target variable\n"
   ]
  },
  {
   "cell_type": "code",
   "execution_count": 239,
   "id": "fa5e9597",
   "metadata": {},
   "outputs": [
    {
     "data": {
      "text/plain": [
       "Index(['floor_area_sqm', 'lease_commence_date', 'remaining_lease',\n",
       "       'flat_type_encoded', 'town_ANG MO KIO', 'town_BEDOK', 'town_BISHAN',\n",
       "       'town_BUKIT BATOK', 'town_BUKIT MERAH', 'town_BUKIT PANJANG',\n",
       "       'town_BUKIT TIMAH', 'town_CENTRAL AREA', 'town_CHOA CHU KANG',\n",
       "       'town_CLEMENTI', 'town_GEYLANG', 'town_HOUGANG', 'town_JURONG EAST',\n",
       "       'town_JURONG WEST', 'town_KALLANG/WHAMPOA', 'town_MARINE PARADE',\n",
       "       'town_PASIR RIS', 'town_PUNGGOL', 'town_QUEENSTOWN', 'town_SEMBAWANG',\n",
       "       'town_SENGKANG', 'town_SERANGOON', 'town_TAMPINES', 'town_TOA PAYOH',\n",
       "       'town_WOODLANDS', 'town_YISHUN', 'storey_range_encoded'],\n",
       "      dtype='object')"
      ]
     },
     "execution_count": 239,
     "metadata": {},
     "output_type": "execute_result"
    }
   ],
   "source": [
    "X.columns"
   ]
  },
  {
   "cell_type": "code",
   "execution_count": 240,
   "id": "c71a7b6c",
   "metadata": {},
   "outputs": [
    {
     "data": {
      "text/plain": [
       "693995    13.098073\n",
       "693996    13.028055\n",
       "693997    13.564483\n",
       "693998    13.262127\n",
       "693999    13.507627\n",
       "Name: resale_price, dtype: float64"
      ]
     },
     "execution_count": 240,
     "metadata": {},
     "output_type": "execute_result"
    }
   ],
   "source": [
    "y.tail()"
   ]
  },
  {
   "cell_type": "code",
   "execution_count": 241,
   "id": "39fe0272",
   "metadata": {},
   "outputs": [],
   "source": [
    "\n",
    "from sklearn.model_selection import train_test_split\n",
    "from sklearn.linear_model import LinearRegression\n",
    "from sklearn.metrics import mean_absolute_error, mean_squared_error, r2_score"
   ]
  },
  {
   "cell_type": "code",
   "execution_count": 242,
   "id": "06e60b67",
   "metadata": {},
   "outputs": [],
   "source": [
    "X_train, X_test, y_train, y_test = train_test_split(X,y,test_size=0.2,random_state=42)"
   ]
  },
  {
   "cell_type": "code",
   "execution_count": 243,
   "id": "69e91467",
   "metadata": {},
   "outputs": [
    {
     "data": {
      "text/html": [
       "<style>#sk-container-id-4 {\n",
       "  /* Definition of color scheme common for light and dark mode */\n",
       "  --sklearn-color-text: #000;\n",
       "  --sklearn-color-text-muted: #666;\n",
       "  --sklearn-color-line: gray;\n",
       "  /* Definition of color scheme for unfitted estimators */\n",
       "  --sklearn-color-unfitted-level-0: #fff5e6;\n",
       "  --sklearn-color-unfitted-level-1: #f6e4d2;\n",
       "  --sklearn-color-unfitted-level-2: #ffe0b3;\n",
       "  --sklearn-color-unfitted-level-3: chocolate;\n",
       "  /* Definition of color scheme for fitted estimators */\n",
       "  --sklearn-color-fitted-level-0: #f0f8ff;\n",
       "  --sklearn-color-fitted-level-1: #d4ebff;\n",
       "  --sklearn-color-fitted-level-2: #b3dbfd;\n",
       "  --sklearn-color-fitted-level-3: cornflowerblue;\n",
       "\n",
       "  /* Specific color for light theme */\n",
       "  --sklearn-color-text-on-default-background: var(--sg-text-color, var(--theme-code-foreground, var(--jp-content-font-color1, black)));\n",
       "  --sklearn-color-background: var(--sg-background-color, var(--theme-background, var(--jp-layout-color0, white)));\n",
       "  --sklearn-color-border-box: var(--sg-text-color, var(--theme-code-foreground, var(--jp-content-font-color1, black)));\n",
       "  --sklearn-color-icon: #696969;\n",
       "\n",
       "  @media (prefers-color-scheme: dark) {\n",
       "    /* Redefinition of color scheme for dark theme */\n",
       "    --sklearn-color-text-on-default-background: var(--sg-text-color, var(--theme-code-foreground, var(--jp-content-font-color1, white)));\n",
       "    --sklearn-color-background: var(--sg-background-color, var(--theme-background, var(--jp-layout-color0, #111)));\n",
       "    --sklearn-color-border-box: var(--sg-text-color, var(--theme-code-foreground, var(--jp-content-font-color1, white)));\n",
       "    --sklearn-color-icon: #878787;\n",
       "  }\n",
       "}\n",
       "\n",
       "#sk-container-id-4 {\n",
       "  color: var(--sklearn-color-text);\n",
       "}\n",
       "\n",
       "#sk-container-id-4 pre {\n",
       "  padding: 0;\n",
       "}\n",
       "\n",
       "#sk-container-id-4 input.sk-hidden--visually {\n",
       "  border: 0;\n",
       "  clip: rect(1px 1px 1px 1px);\n",
       "  clip: rect(1px, 1px, 1px, 1px);\n",
       "  height: 1px;\n",
       "  margin: -1px;\n",
       "  overflow: hidden;\n",
       "  padding: 0;\n",
       "  position: absolute;\n",
       "  width: 1px;\n",
       "}\n",
       "\n",
       "#sk-container-id-4 div.sk-dashed-wrapped {\n",
       "  border: 1px dashed var(--sklearn-color-line);\n",
       "  margin: 0 0.4em 0.5em 0.4em;\n",
       "  box-sizing: border-box;\n",
       "  padding-bottom: 0.4em;\n",
       "  background-color: var(--sklearn-color-background);\n",
       "}\n",
       "\n",
       "#sk-container-id-4 div.sk-container {\n",
       "  /* jupyter's `normalize.less` sets `[hidden] { display: none; }`\n",
       "     but bootstrap.min.css set `[hidden] { display: none !important; }`\n",
       "     so we also need the `!important` here to be able to override the\n",
       "     default hidden behavior on the sphinx rendered scikit-learn.org.\n",
       "     See: https://github.com/scikit-learn/scikit-learn/issues/21755 */\n",
       "  display: inline-block !important;\n",
       "  position: relative;\n",
       "}\n",
       "\n",
       "#sk-container-id-4 div.sk-text-repr-fallback {\n",
       "  display: none;\n",
       "}\n",
       "\n",
       "div.sk-parallel-item,\n",
       "div.sk-serial,\n",
       "div.sk-item {\n",
       "  /* draw centered vertical line to link estimators */\n",
       "  background-image: linear-gradient(var(--sklearn-color-text-on-default-background), var(--sklearn-color-text-on-default-background));\n",
       "  background-size: 2px 100%;\n",
       "  background-repeat: no-repeat;\n",
       "  background-position: center center;\n",
       "}\n",
       "\n",
       "/* Parallel-specific style estimator block */\n",
       "\n",
       "#sk-container-id-4 div.sk-parallel-item::after {\n",
       "  content: \"\";\n",
       "  width: 100%;\n",
       "  border-bottom: 2px solid var(--sklearn-color-text-on-default-background);\n",
       "  flex-grow: 1;\n",
       "}\n",
       "\n",
       "#sk-container-id-4 div.sk-parallel {\n",
       "  display: flex;\n",
       "  align-items: stretch;\n",
       "  justify-content: center;\n",
       "  background-color: var(--sklearn-color-background);\n",
       "  position: relative;\n",
       "}\n",
       "\n",
       "#sk-container-id-4 div.sk-parallel-item {\n",
       "  display: flex;\n",
       "  flex-direction: column;\n",
       "}\n",
       "\n",
       "#sk-container-id-4 div.sk-parallel-item:first-child::after {\n",
       "  align-self: flex-end;\n",
       "  width: 50%;\n",
       "}\n",
       "\n",
       "#sk-container-id-4 div.sk-parallel-item:last-child::after {\n",
       "  align-self: flex-start;\n",
       "  width: 50%;\n",
       "}\n",
       "\n",
       "#sk-container-id-4 div.sk-parallel-item:only-child::after {\n",
       "  width: 0;\n",
       "}\n",
       "\n",
       "/* Serial-specific style estimator block */\n",
       "\n",
       "#sk-container-id-4 div.sk-serial {\n",
       "  display: flex;\n",
       "  flex-direction: column;\n",
       "  align-items: center;\n",
       "  background-color: var(--sklearn-color-background);\n",
       "  padding-right: 1em;\n",
       "  padding-left: 1em;\n",
       "}\n",
       "\n",
       "\n",
       "/* Toggleable style: style used for estimator/Pipeline/ColumnTransformer box that is\n",
       "clickable and can be expanded/collapsed.\n",
       "- Pipeline and ColumnTransformer use this feature and define the default style\n",
       "- Estimators will overwrite some part of the style using the `sk-estimator` class\n",
       "*/\n",
       "\n",
       "/* Pipeline and ColumnTransformer style (default) */\n",
       "\n",
       "#sk-container-id-4 div.sk-toggleable {\n",
       "  /* Default theme specific background. It is overwritten whether we have a\n",
       "  specific estimator or a Pipeline/ColumnTransformer */\n",
       "  background-color: var(--sklearn-color-background);\n",
       "}\n",
       "\n",
       "/* Toggleable label */\n",
       "#sk-container-id-4 label.sk-toggleable__label {\n",
       "  cursor: pointer;\n",
       "  display: flex;\n",
       "  width: 100%;\n",
       "  margin-bottom: 0;\n",
       "  padding: 0.5em;\n",
       "  box-sizing: border-box;\n",
       "  text-align: center;\n",
       "  align-items: start;\n",
       "  justify-content: space-between;\n",
       "  gap: 0.5em;\n",
       "}\n",
       "\n",
       "#sk-container-id-4 label.sk-toggleable__label .caption {\n",
       "  font-size: 0.6rem;\n",
       "  font-weight: lighter;\n",
       "  color: var(--sklearn-color-text-muted);\n",
       "}\n",
       "\n",
       "#sk-container-id-4 label.sk-toggleable__label-arrow:before {\n",
       "  /* Arrow on the left of the label */\n",
       "  content: \"▸\";\n",
       "  float: left;\n",
       "  margin-right: 0.25em;\n",
       "  color: var(--sklearn-color-icon);\n",
       "}\n",
       "\n",
       "#sk-container-id-4 label.sk-toggleable__label-arrow:hover:before {\n",
       "  color: var(--sklearn-color-text);\n",
       "}\n",
       "\n",
       "/* Toggleable content - dropdown */\n",
       "\n",
       "#sk-container-id-4 div.sk-toggleable__content {\n",
       "  display: none;\n",
       "  text-align: left;\n",
       "  /* unfitted */\n",
       "  background-color: var(--sklearn-color-unfitted-level-0);\n",
       "}\n",
       "\n",
       "#sk-container-id-4 div.sk-toggleable__content.fitted {\n",
       "  /* fitted */\n",
       "  background-color: var(--sklearn-color-fitted-level-0);\n",
       "}\n",
       "\n",
       "#sk-container-id-4 div.sk-toggleable__content pre {\n",
       "  margin: 0.2em;\n",
       "  border-radius: 0.25em;\n",
       "  color: var(--sklearn-color-text);\n",
       "  /* unfitted */\n",
       "  background-color: var(--sklearn-color-unfitted-level-0);\n",
       "}\n",
       "\n",
       "#sk-container-id-4 div.sk-toggleable__content.fitted pre {\n",
       "  /* unfitted */\n",
       "  background-color: var(--sklearn-color-fitted-level-0);\n",
       "}\n",
       "\n",
       "#sk-container-id-4 input.sk-toggleable__control:checked~div.sk-toggleable__content {\n",
       "  /* Expand drop-down */\n",
       "  display: block;\n",
       "  width: 100%;\n",
       "  overflow: visible;\n",
       "}\n",
       "\n",
       "#sk-container-id-4 input.sk-toggleable__control:checked~label.sk-toggleable__label-arrow:before {\n",
       "  content: \"▾\";\n",
       "}\n",
       "\n",
       "/* Pipeline/ColumnTransformer-specific style */\n",
       "\n",
       "#sk-container-id-4 div.sk-label input.sk-toggleable__control:checked~label.sk-toggleable__label {\n",
       "  color: var(--sklearn-color-text);\n",
       "  background-color: var(--sklearn-color-unfitted-level-2);\n",
       "}\n",
       "\n",
       "#sk-container-id-4 div.sk-label.fitted input.sk-toggleable__control:checked~label.sk-toggleable__label {\n",
       "  background-color: var(--sklearn-color-fitted-level-2);\n",
       "}\n",
       "\n",
       "/* Estimator-specific style */\n",
       "\n",
       "/* Colorize estimator box */\n",
       "#sk-container-id-4 div.sk-estimator input.sk-toggleable__control:checked~label.sk-toggleable__label {\n",
       "  /* unfitted */\n",
       "  background-color: var(--sklearn-color-unfitted-level-2);\n",
       "}\n",
       "\n",
       "#sk-container-id-4 div.sk-estimator.fitted input.sk-toggleable__control:checked~label.sk-toggleable__label {\n",
       "  /* fitted */\n",
       "  background-color: var(--sklearn-color-fitted-level-2);\n",
       "}\n",
       "\n",
       "#sk-container-id-4 div.sk-label label.sk-toggleable__label,\n",
       "#sk-container-id-4 div.sk-label label {\n",
       "  /* The background is the default theme color */\n",
       "  color: var(--sklearn-color-text-on-default-background);\n",
       "}\n",
       "\n",
       "/* On hover, darken the color of the background */\n",
       "#sk-container-id-4 div.sk-label:hover label.sk-toggleable__label {\n",
       "  color: var(--sklearn-color-text);\n",
       "  background-color: var(--sklearn-color-unfitted-level-2);\n",
       "}\n",
       "\n",
       "/* Label box, darken color on hover, fitted */\n",
       "#sk-container-id-4 div.sk-label.fitted:hover label.sk-toggleable__label.fitted {\n",
       "  color: var(--sklearn-color-text);\n",
       "  background-color: var(--sklearn-color-fitted-level-2);\n",
       "}\n",
       "\n",
       "/* Estimator label */\n",
       "\n",
       "#sk-container-id-4 div.sk-label label {\n",
       "  font-family: monospace;\n",
       "  font-weight: bold;\n",
       "  display: inline-block;\n",
       "  line-height: 1.2em;\n",
       "}\n",
       "\n",
       "#sk-container-id-4 div.sk-label-container {\n",
       "  text-align: center;\n",
       "}\n",
       "\n",
       "/* Estimator-specific */\n",
       "#sk-container-id-4 div.sk-estimator {\n",
       "  font-family: monospace;\n",
       "  border: 1px dotted var(--sklearn-color-border-box);\n",
       "  border-radius: 0.25em;\n",
       "  box-sizing: border-box;\n",
       "  margin-bottom: 0.5em;\n",
       "  /* unfitted */\n",
       "  background-color: var(--sklearn-color-unfitted-level-0);\n",
       "}\n",
       "\n",
       "#sk-container-id-4 div.sk-estimator.fitted {\n",
       "  /* fitted */\n",
       "  background-color: var(--sklearn-color-fitted-level-0);\n",
       "}\n",
       "\n",
       "/* on hover */\n",
       "#sk-container-id-4 div.sk-estimator:hover {\n",
       "  /* unfitted */\n",
       "  background-color: var(--sklearn-color-unfitted-level-2);\n",
       "}\n",
       "\n",
       "#sk-container-id-4 div.sk-estimator.fitted:hover {\n",
       "  /* fitted */\n",
       "  background-color: var(--sklearn-color-fitted-level-2);\n",
       "}\n",
       "\n",
       "/* Specification for estimator info (e.g. \"i\" and \"?\") */\n",
       "\n",
       "/* Common style for \"i\" and \"?\" */\n",
       "\n",
       ".sk-estimator-doc-link,\n",
       "a:link.sk-estimator-doc-link,\n",
       "a:visited.sk-estimator-doc-link {\n",
       "  float: right;\n",
       "  font-size: smaller;\n",
       "  line-height: 1em;\n",
       "  font-family: monospace;\n",
       "  background-color: var(--sklearn-color-background);\n",
       "  border-radius: 1em;\n",
       "  height: 1em;\n",
       "  width: 1em;\n",
       "  text-decoration: none !important;\n",
       "  margin-left: 0.5em;\n",
       "  text-align: center;\n",
       "  /* unfitted */\n",
       "  border: var(--sklearn-color-unfitted-level-1) 1pt solid;\n",
       "  color: var(--sklearn-color-unfitted-level-1);\n",
       "}\n",
       "\n",
       ".sk-estimator-doc-link.fitted,\n",
       "a:link.sk-estimator-doc-link.fitted,\n",
       "a:visited.sk-estimator-doc-link.fitted {\n",
       "  /* fitted */\n",
       "  border: var(--sklearn-color-fitted-level-1) 1pt solid;\n",
       "  color: var(--sklearn-color-fitted-level-1);\n",
       "}\n",
       "\n",
       "/* On hover */\n",
       "div.sk-estimator:hover .sk-estimator-doc-link:hover,\n",
       ".sk-estimator-doc-link:hover,\n",
       "div.sk-label-container:hover .sk-estimator-doc-link:hover,\n",
       ".sk-estimator-doc-link:hover {\n",
       "  /* unfitted */\n",
       "  background-color: var(--sklearn-color-unfitted-level-3);\n",
       "  color: var(--sklearn-color-background);\n",
       "  text-decoration: none;\n",
       "}\n",
       "\n",
       "div.sk-estimator.fitted:hover .sk-estimator-doc-link.fitted:hover,\n",
       ".sk-estimator-doc-link.fitted:hover,\n",
       "div.sk-label-container:hover .sk-estimator-doc-link.fitted:hover,\n",
       ".sk-estimator-doc-link.fitted:hover {\n",
       "  /* fitted */\n",
       "  background-color: var(--sklearn-color-fitted-level-3);\n",
       "  color: var(--sklearn-color-background);\n",
       "  text-decoration: none;\n",
       "}\n",
       "\n",
       "/* Span, style for the box shown on hovering the info icon */\n",
       ".sk-estimator-doc-link span {\n",
       "  display: none;\n",
       "  z-index: 9999;\n",
       "  position: relative;\n",
       "  font-weight: normal;\n",
       "  right: .2ex;\n",
       "  padding: .5ex;\n",
       "  margin: .5ex;\n",
       "  width: min-content;\n",
       "  min-width: 20ex;\n",
       "  max-width: 50ex;\n",
       "  color: var(--sklearn-color-text);\n",
       "  box-shadow: 2pt 2pt 4pt #999;\n",
       "  /* unfitted */\n",
       "  background: var(--sklearn-color-unfitted-level-0);\n",
       "  border: .5pt solid var(--sklearn-color-unfitted-level-3);\n",
       "}\n",
       "\n",
       ".sk-estimator-doc-link.fitted span {\n",
       "  /* fitted */\n",
       "  background: var(--sklearn-color-fitted-level-0);\n",
       "  border: var(--sklearn-color-fitted-level-3);\n",
       "}\n",
       "\n",
       ".sk-estimator-doc-link:hover span {\n",
       "  display: block;\n",
       "}\n",
       "\n",
       "/* \"?\"-specific style due to the `<a>` HTML tag */\n",
       "\n",
       "#sk-container-id-4 a.estimator_doc_link {\n",
       "  float: right;\n",
       "  font-size: 1rem;\n",
       "  line-height: 1em;\n",
       "  font-family: monospace;\n",
       "  background-color: var(--sklearn-color-background);\n",
       "  border-radius: 1rem;\n",
       "  height: 1rem;\n",
       "  width: 1rem;\n",
       "  text-decoration: none;\n",
       "  /* unfitted */\n",
       "  color: var(--sklearn-color-unfitted-level-1);\n",
       "  border: var(--sklearn-color-unfitted-level-1) 1pt solid;\n",
       "}\n",
       "\n",
       "#sk-container-id-4 a.estimator_doc_link.fitted {\n",
       "  /* fitted */\n",
       "  border: var(--sklearn-color-fitted-level-1) 1pt solid;\n",
       "  color: var(--sklearn-color-fitted-level-1);\n",
       "}\n",
       "\n",
       "/* On hover */\n",
       "#sk-container-id-4 a.estimator_doc_link:hover {\n",
       "  /* unfitted */\n",
       "  background-color: var(--sklearn-color-unfitted-level-3);\n",
       "  color: var(--sklearn-color-background);\n",
       "  text-decoration: none;\n",
       "}\n",
       "\n",
       "#sk-container-id-4 a.estimator_doc_link.fitted:hover {\n",
       "  /* fitted */\n",
       "  background-color: var(--sklearn-color-fitted-level-3);\n",
       "}\n",
       "\n",
       ".estimator-table summary {\n",
       "    padding: .5rem;\n",
       "    font-family: monospace;\n",
       "    cursor: pointer;\n",
       "}\n",
       "\n",
       ".estimator-table details[open] {\n",
       "    padding-left: 0.1rem;\n",
       "    padding-right: 0.1rem;\n",
       "    padding-bottom: 0.3rem;\n",
       "}\n",
       "\n",
       ".estimator-table .parameters-table {\n",
       "    margin-left: auto !important;\n",
       "    margin-right: auto !important;\n",
       "}\n",
       "\n",
       ".estimator-table .parameters-table tr:nth-child(odd) {\n",
       "    background-color: #fff;\n",
       "}\n",
       "\n",
       ".estimator-table .parameters-table tr:nth-child(even) {\n",
       "    background-color: #f6f6f6;\n",
       "}\n",
       "\n",
       ".estimator-table .parameters-table tr:hover {\n",
       "    background-color: #e0e0e0;\n",
       "}\n",
       "\n",
       ".estimator-table table td {\n",
       "    border: 1px solid rgba(106, 105, 104, 0.232);\n",
       "}\n",
       "\n",
       ".user-set td {\n",
       "    color:rgb(255, 94, 0);\n",
       "    text-align: left;\n",
       "}\n",
       "\n",
       ".user-set td.value pre {\n",
       "    color:rgb(255, 94, 0) !important;\n",
       "    background-color: transparent !important;\n",
       "}\n",
       "\n",
       ".default td {\n",
       "    color: black;\n",
       "    text-align: left;\n",
       "}\n",
       "\n",
       ".user-set td i,\n",
       ".default td i {\n",
       "    color: black;\n",
       "}\n",
       "\n",
       ".copy-paste-icon {\n",
       "    background-image: url(data:image/svg+xml;base64,PHN2ZyB4bWxucz0iaHR0cDovL3d3dy53My5vcmcvMjAwMC9zdmciIHZpZXdCb3g9IjAgMCA0NDggNTEyIj48IS0tIUZvbnQgQXdlc29tZSBGcmVlIDYuNy4yIGJ5IEBmb250YXdlc29tZSAtIGh0dHBzOi8vZm9udGF3ZXNvbWUuY29tIExpY2Vuc2UgLSBodHRwczovL2ZvbnRhd2Vzb21lLmNvbS9saWNlbnNlL2ZyZWUgQ29weXJpZ2h0IDIwMjUgRm9udGljb25zLCBJbmMuLS0+PHBhdGggZD0iTTIwOCAwTDMzMi4xIDBjMTIuNyAwIDI0LjkgNS4xIDMzLjkgMTQuMWw2Ny45IDY3LjljOSA5IDE0LjEgMjEuMiAxNC4xIDMzLjlMNDQ4IDMzNmMwIDI2LjUtMjEuNSA0OC00OCA0OGwtMTkyIDBjLTI2LjUgMC00OC0yMS41LTQ4LTQ4bDAtMjg4YzAtMjYuNSAyMS41LTQ4IDQ4LTQ4ek00OCAxMjhsODAgMCAwIDY0LTY0IDAgMCAyNTYgMTkyIDAgMC0zMiA2NCAwIDAgNDhjMCAyNi41LTIxLjUgNDgtNDggNDhMNDggNTEyYy0yNi41IDAtNDgtMjEuNS00OC00OEwwIDE3NmMwLTI2LjUgMjEuNS00OCA0OC00OHoiLz48L3N2Zz4=);\n",
       "    background-repeat: no-repeat;\n",
       "    background-size: 14px 14px;\n",
       "    background-position: 0;\n",
       "    display: inline-block;\n",
       "    width: 14px;\n",
       "    height: 14px;\n",
       "    cursor: pointer;\n",
       "}\n",
       "</style><body><div id=\"sk-container-id-4\" class=\"sk-top-container\"><div class=\"sk-text-repr-fallback\"><pre>LinearRegression()</pre><b>In a Jupyter environment, please rerun this cell to show the HTML representation or trust the notebook. <br />On GitHub, the HTML representation is unable to render, please try loading this page with nbviewer.org.</b></div><div class=\"sk-container\" hidden><div class=\"sk-item\"><div class=\"sk-estimator fitted sk-toggleable\"><input class=\"sk-toggleable__control sk-hidden--visually\" id=\"sk-estimator-id-4\" type=\"checkbox\" checked><label for=\"sk-estimator-id-4\" class=\"sk-toggleable__label fitted sk-toggleable__label-arrow\"><div><div>LinearRegression</div></div><div><a class=\"sk-estimator-doc-link fitted\" rel=\"noreferrer\" target=\"_blank\" href=\"https://scikit-learn.org/1.7/modules/generated/sklearn.linear_model.LinearRegression.html\">?<span>Documentation for LinearRegression</span></a><span class=\"sk-estimator-doc-link fitted\">i<span>Fitted</span></span></div></label><div class=\"sk-toggleable__content fitted\" data-param-prefix=\"\">\n",
       "        <div class=\"estimator-table\">\n",
       "            <details>\n",
       "                <summary>Parameters</summary>\n",
       "                <table class=\"parameters-table\">\n",
       "                  <tbody>\n",
       "                    \n",
       "        <tr class=\"default\">\n",
       "            <td><i class=\"copy-paste-icon\"\n",
       "                 onclick=\"copyToClipboard('fit_intercept',\n",
       "                          this.parentElement.nextElementSibling)\"\n",
       "            ></i></td>\n",
       "            <td class=\"param\">fit_intercept&nbsp;</td>\n",
       "            <td class=\"value\">True</td>\n",
       "        </tr>\n",
       "    \n",
       "\n",
       "        <tr class=\"default\">\n",
       "            <td><i class=\"copy-paste-icon\"\n",
       "                 onclick=\"copyToClipboard('copy_X',\n",
       "                          this.parentElement.nextElementSibling)\"\n",
       "            ></i></td>\n",
       "            <td class=\"param\">copy_X&nbsp;</td>\n",
       "            <td class=\"value\">True</td>\n",
       "        </tr>\n",
       "    \n",
       "\n",
       "        <tr class=\"default\">\n",
       "            <td><i class=\"copy-paste-icon\"\n",
       "                 onclick=\"copyToClipboard('tol',\n",
       "                          this.parentElement.nextElementSibling)\"\n",
       "            ></i></td>\n",
       "            <td class=\"param\">tol&nbsp;</td>\n",
       "            <td class=\"value\">1e-06</td>\n",
       "        </tr>\n",
       "    \n",
       "\n",
       "        <tr class=\"default\">\n",
       "            <td><i class=\"copy-paste-icon\"\n",
       "                 onclick=\"copyToClipboard('n_jobs',\n",
       "                          this.parentElement.nextElementSibling)\"\n",
       "            ></i></td>\n",
       "            <td class=\"param\">n_jobs&nbsp;</td>\n",
       "            <td class=\"value\">None</td>\n",
       "        </tr>\n",
       "    \n",
       "\n",
       "        <tr class=\"default\">\n",
       "            <td><i class=\"copy-paste-icon\"\n",
       "                 onclick=\"copyToClipboard('positive',\n",
       "                          this.parentElement.nextElementSibling)\"\n",
       "            ></i></td>\n",
       "            <td class=\"param\">positive&nbsp;</td>\n",
       "            <td class=\"value\">False</td>\n",
       "        </tr>\n",
       "    \n",
       "                  </tbody>\n",
       "                </table>\n",
       "            </details>\n",
       "        </div>\n",
       "    </div></div></div></div></div><script>function copyToClipboard(text, element) {\n",
       "    // Get the parameter prefix from the closest toggleable content\n",
       "    const toggleableContent = element.closest('.sk-toggleable__content');\n",
       "    const paramPrefix = toggleableContent ? toggleableContent.dataset.paramPrefix : '';\n",
       "    const fullParamName = paramPrefix ? `${paramPrefix}${text}` : text;\n",
       "\n",
       "    const originalStyle = element.style;\n",
       "    const computedStyle = window.getComputedStyle(element);\n",
       "    const originalWidth = computedStyle.width;\n",
       "    const originalHTML = element.innerHTML.replace('Copied!', '');\n",
       "\n",
       "    navigator.clipboard.writeText(fullParamName)\n",
       "        .then(() => {\n",
       "            element.style.width = originalWidth;\n",
       "            element.style.color = 'green';\n",
       "            element.innerHTML = \"Copied!\";\n",
       "\n",
       "            setTimeout(() => {\n",
       "                element.innerHTML = originalHTML;\n",
       "                element.style = originalStyle;\n",
       "            }, 2000);\n",
       "        })\n",
       "        .catch(err => {\n",
       "            console.error('Failed to copy:', err);\n",
       "            element.style.color = 'red';\n",
       "            element.innerHTML = \"Failed!\";\n",
       "            setTimeout(() => {\n",
       "                element.innerHTML = originalHTML;\n",
       "                element.style = originalStyle;\n",
       "            }, 2000);\n",
       "        });\n",
       "    return false;\n",
       "}\n",
       "\n",
       "document.querySelectorAll('.fa-regular.fa-copy').forEach(function(element) {\n",
       "    const toggleableContent = element.closest('.sk-toggleable__content');\n",
       "    const paramPrefix = toggleableContent ? toggleableContent.dataset.paramPrefix : '';\n",
       "    const paramName = element.parentElement.nextElementSibling.textContent.trim();\n",
       "    const fullParamName = paramPrefix ? `${paramPrefix}${paramName}` : paramName;\n",
       "\n",
       "    element.setAttribute('title', fullParamName);\n",
       "});\n",
       "</script></body>"
      ],
      "text/plain": [
       "LinearRegression()"
      ]
     },
     "execution_count": 243,
     "metadata": {},
     "output_type": "execute_result"
    }
   ],
   "source": [
    "# 4️⃣ Train the model\n",
    "# ---------------------------\n",
    "model = LinearRegression()\n",
    "model.fit(X_train, y_train)"
   ]
  },
  {
   "cell_type": "code",
   "execution_count": 244,
   "id": "458121db",
   "metadata": {},
   "outputs": [],
   "source": [
    "# 4️⃣ Predict & evaluate\n",
    "# ---------------------------\n",
    "from sklearn.metrics import mean_absolute_error, mean_squared_error, r2_score\n",
    "\n",
    "y_pred = model.predict(X_test)\n",
    "\n",
    "mae = mean_absolute_error(y_test, y_pred)\n",
    "mse = mean_squared_error(y_test, y_pred)\n",
    "r2 = r2_score(y_test, y_pred)"
   ]
  },
  {
   "cell_type": "code",
   "execution_count": 245,
   "id": "54bf7f68",
   "metadata": {},
   "outputs": [
    {
     "name": "stdout",
     "output_type": "stream",
     "text": [
      "✅ Model Evaluation Results\n",
      "Mean Absolute Error (MAE): 0.08\n",
      "Mean Squared Error (MSE): 0.01\n",
      "R² Score: 0.88\n"
     ]
    }
   ],
   "source": [
    "print(\"✅ Model Evaluation Results\")\n",
    "print(f\"Mean Absolute Error (MAE): {mae:.2f}\")\n",
    "print(f\"Mean Squared Error (MSE): {mse:.2f}\")\n",
    "print(f\"R² Score: {r2:.2f}\")"
   ]
  },
  {
   "cell_type": "code",
   "execution_count": 246,
   "id": "71f8a784",
   "metadata": {},
   "outputs": [
    {
     "name": "stdout",
     "output_type": "stream",
     "text": [
      "🌳 Random Forest Results\n",
      "MAE: 0.05\n",
      "MSE: 0.00\n",
      "R²: 0.94\n"
     ]
    }
   ],
   "source": [
    "# ---------------------------\n",
    "# 🌳 Random Forest Regressor\n",
    "# ---------------------------\n",
    "from sklearn.ensemble import RandomForestRegressor\n",
    "from sklearn.metrics import mean_absolute_error, mean_squared_error, r2_score\n",
    "\n",
    "# Initialize and train model\n",
    "rf_model = RandomForestRegressor(random_state=42)\n",
    "rf_model.fit(X_train, y_train)\n",
    "\n",
    "# Predict\n",
    "rf_pred = rf_model.predict(X_test)\n",
    "\n",
    "# Evaluate\n",
    "rf_mae = mean_absolute_error(y_test, rf_pred)\n",
    "rf_mse = mean_squared_error(y_test, rf_pred)\n",
    "rf_r2 = r2_score(y_test, rf_pred)\n",
    "\n",
    "print(\"🌳 Random Forest Results\")\n",
    "print(f\"MAE: {rf_mae:.2f}\")\n",
    "print(f\"MSE: {rf_mse:.2f}\")\n",
    "print(f\"R²: {rf_r2:.2f}\")\n"
   ]
  },
  {
   "cell_type": "code",
   "execution_count": 247,
   "id": "86905884",
   "metadata": {},
   "outputs": [
    {
     "name": "stdout",
     "output_type": "stream",
     "text": [
      "\n",
      "⚙️ Support Vector Regressor (SVM) Results\n",
      "MAE: 0.06\n",
      "MSE: 0.01\n",
      "R²: 0.92\n"
     ]
    }
   ],
   "source": [
    "# ---------------------------\n",
    "# ⚙️ Support Vector Regressor (SVM)\n",
    "# ---------------------------\n",
    "from sklearn.svm import SVR\n",
    "from sklearn.preprocessing import StandardScaler\n",
    "from sklearn.metrics import mean_absolute_error, mean_squared_error, r2_score\n",
    "\n",
    "# Scale features (important for SVM)\n",
    "scaler = StandardScaler()\n",
    "X_train_scaled = scaler.fit_transform(X_train)\n",
    "X_test_scaled = scaler.transform(X_test)\n",
    "\n",
    "# Train model\n",
    "svm_model = SVR(kernel='rbf')  # you can also try 'linear' or 'poly'\n",
    "svm_model.fit(X_train_scaled, y_train)\n",
    "\n",
    "# Predict\n",
    "svm_pred = svm_model.predict(X_test_scaled)\n",
    "\n",
    "# Evaluate\n",
    "svm_mae = mean_absolute_error(y_test, svm_pred)\n",
    "svm_mse = mean_squared_error(y_test, svm_pred)\n",
    "svm_r2 = r2_score(y_test, svm_pred)\n",
    "\n",
    "print(\"\\n⚙️ Support Vector Regressor (SVM) Results\")\n",
    "print(f\"MAE: {svm_mae:.2f}\")\n",
    "print(f\"MSE: {svm_mse:.2f}\")\n",
    "print(f\"R²: {svm_r2:.2f}\")\n"
   ]
  },
  {
   "cell_type": "code",
   "execution_count": 248,
   "id": "11ff6b33",
   "metadata": {},
   "outputs": [],
   "source": [
    "import pickle as pkl\n",
    "with open('random_forest_model.pkl','wb') as file:\n",
    "    pkl.dump(rf_model,file)\n"
   ]
  }
 ],
 "metadata": {
  "kernelspec": {
   "display_name": ".venv (3.10.11)",
   "language": "python",
   "name": "python3"
  },
  "language_info": {
   "codemirror_mode": {
    "name": "ipython",
    "version": 3
   },
   "file_extension": ".py",
   "mimetype": "text/x-python",
   "name": "python",
   "nbconvert_exporter": "python",
   "pygments_lexer": "ipython3",
   "version": "3.10.11"
  }
 },
 "nbformat": 4,
 "nbformat_minor": 5
}
